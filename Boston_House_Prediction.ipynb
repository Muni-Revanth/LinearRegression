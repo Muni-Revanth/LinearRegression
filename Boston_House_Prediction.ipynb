{
 "cells": [
  {
   "cell_type": "markdown",
   "id": "0a4b4d38",
   "metadata": {},
   "source": [
    "## Importing Necessary Libraries"
   ]
  },
  {
   "cell_type": "code",
   "execution_count": 1,
   "id": "cef2f832",
   "metadata": {},
   "outputs": [],
   "source": [
    "import numpy as np\n",
    "import pandas as pd\n",
    "from numpy import loadtxt"
   ]
  },
  {
   "cell_type": "markdown",
   "id": "d39b91a1",
   "metadata": {},
   "source": [
    "## Importing Train and Test Datasets"
   ]
  },
  {
   "cell_type": "code",
   "execution_count": 2,
   "id": "73276539",
   "metadata": {},
   "outputs": [],
   "source": [
    "phi = loadtxt(\"R:\\\\GUVI\\\\Tasks\\\\Task-6\\\\train.csv\",delimiter=\",\",skiprows=1,usecols=(1,2,3,4,5,6,7,8,9,10,11,12,13))"
   ]
  },
  {
   "cell_type": "code",
   "execution_count": 3,
   "id": "b96d5998",
   "metadata": {},
   "outputs": [],
   "source": [
    "phi_test = loadtxt(\"R:\\\\GUVI\\\\Tasks\\\\Task-6\\\\test.csv\", delimiter=\",\",skiprows=1, usecols=(1,2,3,4,5,6,7,8,9,10,11,12,13))"
   ]
  },
  {
   "cell_type": "markdown",
   "id": "62e63e4c",
   "metadata": {},
   "source": [
    "## Importing Target Variable "
   ]
  },
  {
   "cell_type": "code",
   "execution_count": 4,
   "id": "2f4bb158",
   "metadata": {},
   "outputs": [],
   "source": [
    "y = loadtxt(\"R:\\\\GUVI\\\\Tasks\\\\Task-6\\\\train.csv\", delimiter = \",\", skiprows=1, usecols=(14))"
   ]
  },
  {
   "cell_type": "code",
   "execution_count": 5,
   "id": "8845efdd",
   "metadata": {},
   "outputs": [
    {
     "data": {
      "text/plain": [
       "(400, 13)"
      ]
     },
     "execution_count": 5,
     "metadata": {},
     "output_type": "execute_result"
    }
   ],
   "source": [
    "phi.shape"
   ]
  },
  {
   "cell_type": "code",
   "execution_count": 6,
   "id": "58cd1f5d",
   "metadata": {},
   "outputs": [
    {
     "data": {
      "text/plain": [
       "(105, 13)"
      ]
     },
     "execution_count": 6,
     "metadata": {},
     "output_type": "execute_result"
    }
   ],
   "source": [
    "phi_test.shape"
   ]
  },
  {
   "cell_type": "markdown",
   "id": "0606e896",
   "metadata": {},
   "source": [
    "## Concatenating Column of 1's to Train and Test Datasets "
   ]
  },
  {
   "cell_type": "code",
   "execution_count": 7,
   "id": "16b0cf6c",
   "metadata": {},
   "outputs": [],
   "source": [
    "phi = np.concatenate((phi, np.ones((400,1))),axis=1)"
   ]
  },
  {
   "cell_type": "code",
   "execution_count": 8,
   "id": "a66ed3c5",
   "metadata": {},
   "outputs": [],
   "source": [
    "phi_test = np.concatenate((phi_test, np.ones((105,1))),axis=1)"
   ]
  },
  {
   "cell_type": "markdown",
   "id": "aea03f54",
   "metadata": {},
   "source": [
    "## Splitting of Dataset "
   ]
  },
  {
   "cell_type": "code",
   "execution_count": 9,
   "id": "f2dc33aa",
   "metadata": {},
   "outputs": [],
   "source": [
    "from sklearn.model_selection import train_test_split\n",
    "x_train, x_test, y_train, y_test = train_test_split(phi, y, test_size=0.3)"
   ]
  },
  {
   "cell_type": "markdown",
   "id": "17ebc3db",
   "metadata": {},
   "source": [
    "## MinMax Scaling on Feature Variables"
   ]
  },
  {
   "cell_type": "code",
   "execution_count": 10,
   "id": "4ae0d748",
   "metadata": {},
   "outputs": [],
   "source": [
    "from sklearn.preprocessing import MinMaxScaler\n",
    "scaler = MinMaxScaler()\n",
    "x_train_scaled = scaler.fit_transform(x_train)\n",
    "x_test_scaled = scaler.transform(x_test)"
   ]
  },
  {
   "cell_type": "markdown",
   "id": "bd764226",
   "metadata": {},
   "source": [
    "## Log Scaling Target Variable "
   ]
  },
  {
   "cell_type": "code",
   "execution_count": 11,
   "id": "1572443e",
   "metadata": {},
   "outputs": [],
   "source": [
    "y_train_scaled = np.log(y_train)\n",
    "y_test_scaled = np.log(y_test)"
   ]
  },
  {
   "cell_type": "markdown",
   "id": "7dbaef21",
   "metadata": {},
   "source": [
    "## Model"
   ]
  },
  {
   "cell_type": "code",
   "execution_count": 12,
   "id": "e58fc4d4",
   "metadata": {},
   "outputs": [
    {
     "data": {
      "text/html": [
       "<style>#sk-container-id-1 {color: black;background-color: white;}#sk-container-id-1 pre{padding: 0;}#sk-container-id-1 div.sk-toggleable {background-color: white;}#sk-container-id-1 label.sk-toggleable__label {cursor: pointer;display: block;width: 100%;margin-bottom: 0;padding: 0.3em;box-sizing: border-box;text-align: center;}#sk-container-id-1 label.sk-toggleable__label-arrow:before {content: \"▸\";float: left;margin-right: 0.25em;color: #696969;}#sk-container-id-1 label.sk-toggleable__label-arrow:hover:before {color: black;}#sk-container-id-1 div.sk-estimator:hover label.sk-toggleable__label-arrow:before {color: black;}#sk-container-id-1 div.sk-toggleable__content {max-height: 0;max-width: 0;overflow: hidden;text-align: left;background-color: #f0f8ff;}#sk-container-id-1 div.sk-toggleable__content pre {margin: 0.2em;color: black;border-radius: 0.25em;background-color: #f0f8ff;}#sk-container-id-1 input.sk-toggleable__control:checked~div.sk-toggleable__content {max-height: 200px;max-width: 100%;overflow: auto;}#sk-container-id-1 input.sk-toggleable__control:checked~label.sk-toggleable__label-arrow:before {content: \"▾\";}#sk-container-id-1 div.sk-estimator input.sk-toggleable__control:checked~label.sk-toggleable__label {background-color: #d4ebff;}#sk-container-id-1 div.sk-label input.sk-toggleable__control:checked~label.sk-toggleable__label {background-color: #d4ebff;}#sk-container-id-1 input.sk-hidden--visually {border: 0;clip: rect(1px 1px 1px 1px);clip: rect(1px, 1px, 1px, 1px);height: 1px;margin: -1px;overflow: hidden;padding: 0;position: absolute;width: 1px;}#sk-container-id-1 div.sk-estimator {font-family: monospace;background-color: #f0f8ff;border: 1px dotted black;border-radius: 0.25em;box-sizing: border-box;margin-bottom: 0.5em;}#sk-container-id-1 div.sk-estimator:hover {background-color: #d4ebff;}#sk-container-id-1 div.sk-parallel-item::after {content: \"\";width: 100%;border-bottom: 1px solid gray;flex-grow: 1;}#sk-container-id-1 div.sk-label:hover label.sk-toggleable__label {background-color: #d4ebff;}#sk-container-id-1 div.sk-serial::before {content: \"\";position: absolute;border-left: 1px solid gray;box-sizing: border-box;top: 0;bottom: 0;left: 50%;z-index: 0;}#sk-container-id-1 div.sk-serial {display: flex;flex-direction: column;align-items: center;background-color: white;padding-right: 0.2em;padding-left: 0.2em;position: relative;}#sk-container-id-1 div.sk-item {position: relative;z-index: 1;}#sk-container-id-1 div.sk-parallel {display: flex;align-items: stretch;justify-content: center;background-color: white;position: relative;}#sk-container-id-1 div.sk-item::before, #sk-container-id-1 div.sk-parallel-item::before {content: \"\";position: absolute;border-left: 1px solid gray;box-sizing: border-box;top: 0;bottom: 0;left: 50%;z-index: -1;}#sk-container-id-1 div.sk-parallel-item {display: flex;flex-direction: column;z-index: 1;position: relative;background-color: white;}#sk-container-id-1 div.sk-parallel-item:first-child::after {align-self: flex-end;width: 50%;}#sk-container-id-1 div.sk-parallel-item:last-child::after {align-self: flex-start;width: 50%;}#sk-container-id-1 div.sk-parallel-item:only-child::after {width: 0;}#sk-container-id-1 div.sk-dashed-wrapped {border: 1px dashed gray;margin: 0 0.4em 0.5em 0.4em;box-sizing: border-box;padding-bottom: 0.4em;background-color: white;}#sk-container-id-1 div.sk-label label {font-family: monospace;font-weight: bold;display: inline-block;line-height: 1.2em;}#sk-container-id-1 div.sk-label-container {text-align: center;}#sk-container-id-1 div.sk-container {/* jupyter's `normalize.less` sets `[hidden] { display: none; }` but bootstrap.min.css set `[hidden] { display: none !important; }` so we also need the `!important` here to be able to override the default hidden behavior on the sphinx rendered scikit-learn.org. See: https://github.com/scikit-learn/scikit-learn/issues/21755 */display: inline-block !important;position: relative;}#sk-container-id-1 div.sk-text-repr-fallback {display: none;}</style><div id=\"sk-container-id-1\" class=\"sk-top-container\"><div class=\"sk-text-repr-fallback\"><pre>LinearRegression()</pre><b>In a Jupyter environment, please rerun this cell to show the HTML representation or trust the notebook. <br />On GitHub, the HTML representation is unable to render, please try loading this page with nbviewer.org.</b></div><div class=\"sk-container\" hidden><div class=\"sk-item\"><div class=\"sk-estimator sk-toggleable\"><input class=\"sk-toggleable__control sk-hidden--visually\" id=\"sk-estimator-id-1\" type=\"checkbox\" checked><label for=\"sk-estimator-id-1\" class=\"sk-toggleable__label sk-toggleable__label-arrow\">LinearRegression</label><div class=\"sk-toggleable__content\"><pre>LinearRegression()</pre></div></div></div></div></div>"
      ],
      "text/plain": [
       "LinearRegression()"
      ]
     },
     "execution_count": 12,
     "metadata": {},
     "output_type": "execute_result"
    }
   ],
   "source": [
    "from sklearn.linear_model import LinearRegression\n",
    "regressor = LinearRegression()\n",
    "regressor.fit(x_train_scaled, y_train_scaled)"
   ]
  },
  {
   "cell_type": "code",
   "execution_count": 13,
   "id": "3cf196dd",
   "metadata": {},
   "outputs": [
    {
     "data": {
      "text/plain": [
       "array([-0.90883879,  0.12970675,  0.07171365,  0.09187919, -0.37108788,\n",
       "        0.50681848, -0.0385201 , -0.58902483,  0.35512437, -0.37648528,\n",
       "       -0.38228024,  0.06375937, -0.83856386,  0.        ])"
      ]
     },
     "execution_count": 13,
     "metadata": {},
     "output_type": "execute_result"
    }
   ],
   "source": [
    "regressor.coef_"
   ]
  },
  {
   "cell_type": "code",
   "execution_count": 14,
   "id": "7dc6138b",
   "metadata": {},
   "outputs": [
    {
     "data": {
      "text/plain": [
       "3.572772840206926"
      ]
     },
     "execution_count": 14,
     "metadata": {},
     "output_type": "execute_result"
    }
   ],
   "source": [
    "regressor.intercept_"
   ]
  },
  {
   "cell_type": "code",
   "execution_count": 15,
   "id": "780dd626",
   "metadata": {},
   "outputs": [],
   "source": [
    "y_pred = regressor.predict(x_test_scaled)"
   ]
  },
  {
   "cell_type": "code",
   "execution_count": 16,
   "id": "e15827a2",
   "metadata": {},
   "outputs": [
    {
     "data": {
      "text/html": [
       "<div>\n",
       "<style scoped>\n",
       "    .dataframe tbody tr th:only-of-type {\n",
       "        vertical-align: middle;\n",
       "    }\n",
       "\n",
       "    .dataframe tbody tr th {\n",
       "        vertical-align: top;\n",
       "    }\n",
       "\n",
       "    .dataframe thead th {\n",
       "        text-align: right;\n",
       "    }\n",
       "</style>\n",
       "<table border=\"1\" class=\"dataframe\">\n",
       "  <thead>\n",
       "    <tr style=\"text-align: right;\">\n",
       "      <th></th>\n",
       "      <th>a</th>\n",
       "      <th>b</th>\n",
       "    </tr>\n",
       "  </thead>\n",
       "  <tbody>\n",
       "    <tr>\n",
       "      <th>0</th>\n",
       "      <td>2.580217</td>\n",
       "      <td>2.470681</td>\n",
       "    </tr>\n",
       "    <tr>\n",
       "      <th>1</th>\n",
       "      <td>3.589059</td>\n",
       "      <td>3.301802</td>\n",
       "    </tr>\n",
       "    <tr>\n",
       "      <th>2</th>\n",
       "      <td>3.226844</td>\n",
       "      <td>3.310807</td>\n",
       "    </tr>\n",
       "    <tr>\n",
       "      <th>3</th>\n",
       "      <td>3.912023</td>\n",
       "      <td>3.771881</td>\n",
       "    </tr>\n",
       "    <tr>\n",
       "      <th>4</th>\n",
       "      <td>2.174752</td>\n",
       "      <td>1.763289</td>\n",
       "    </tr>\n",
       "    <tr>\n",
       "      <th>...</th>\n",
       "      <td>...</td>\n",
       "      <td>...</td>\n",
       "    </tr>\n",
       "    <tr>\n",
       "      <th>115</th>\n",
       "      <td>2.587764</td>\n",
       "      <td>2.694414</td>\n",
       "    </tr>\n",
       "    <tr>\n",
       "      <th>116</th>\n",
       "      <td>3.295837</td>\n",
       "      <td>3.475773</td>\n",
       "    </tr>\n",
       "    <tr>\n",
       "      <th>117</th>\n",
       "      <td>2.721295</td>\n",
       "      <td>2.561792</td>\n",
       "    </tr>\n",
       "    <tr>\n",
       "      <th>118</th>\n",
       "      <td>2.595255</td>\n",
       "      <td>2.556385</td>\n",
       "    </tr>\n",
       "    <tr>\n",
       "      <th>119</th>\n",
       "      <td>2.862201</td>\n",
       "      <td>2.862695</td>\n",
       "    </tr>\n",
       "  </tbody>\n",
       "</table>\n",
       "<p>120 rows × 2 columns</p>\n",
       "</div>"
      ],
      "text/plain": [
       "            a         b\n",
       "0    2.580217  2.470681\n",
       "1    3.589059  3.301802\n",
       "2    3.226844  3.310807\n",
       "3    3.912023  3.771881\n",
       "4    2.174752  1.763289\n",
       "..        ...       ...\n",
       "115  2.587764  2.694414\n",
       "116  3.295837  3.475773\n",
       "117  2.721295  2.561792\n",
       "118  2.595255  2.556385\n",
       "119  2.862201  2.862695\n",
       "\n",
       "[120 rows x 2 columns]"
      ]
     },
     "execution_count": 16,
     "metadata": {},
     "output_type": "execute_result"
    }
   ],
   "source": [
    "pd.DataFrame({\"a\" :y_test_scaled, \"b\":y_pred})"
   ]
  },
  {
   "cell_type": "markdown",
   "id": "55f3de36",
   "metadata": {},
   "source": [
    "## Evaluating "
   ]
  },
  {
   "cell_type": "code",
   "execution_count": 17,
   "id": "91d1b88c",
   "metadata": {},
   "outputs": [
    {
     "data": {
      "text/plain": [
       "0.7608713709311579"
      ]
     },
     "execution_count": 17,
     "metadata": {},
     "output_type": "execute_result"
    }
   ],
   "source": [
    "from sklearn import metrics\n",
    "r = regressor.score(x_test_scaled, y_test_scaled)\n",
    "r"
   ]
  },
  {
   "cell_type": "markdown",
   "id": "c502d040",
   "metadata": {},
   "source": [
    "## L2 Regularization (Ridge Regression)"
   ]
  },
  {
   "cell_type": "code",
   "execution_count": 18,
   "id": "5476f2c5",
   "metadata": {},
   "outputs": [
    {
     "data": {
      "text/plain": [
       "0.7719327679237056"
      ]
     },
     "execution_count": 18,
     "metadata": {},
     "output_type": "execute_result"
    }
   ],
   "source": [
    "from sklearn.linear_model import Ridge\n",
    "R = Ridge()\n",
    "R.fit(x_train_scaled, y_train_scaled)\n",
    "from sklearn import metrics\n",
    "r = R.score(x_test_scaled, y_test_scaled)\n",
    "r"
   ]
  },
  {
   "cell_type": "markdown",
   "id": "a00363c6",
   "metadata": {},
   "source": [
    "## L1 Regularization (Lasso Regression) "
   ]
  },
  {
   "cell_type": "code",
   "execution_count": 19,
   "id": "3501bc00",
   "metadata": {
    "scrolled": true
   },
   "outputs": [
    {
     "data": {
      "text/plain": [
       "-0.02187918286146151"
      ]
     },
     "execution_count": 19,
     "metadata": {},
     "output_type": "execute_result"
    }
   ],
   "source": [
    "from sklearn.linear_model import Lasso\n",
    "L = Lasso()\n",
    "L.fit(x_train_scaled, y_train_scaled)\n",
    "from sklearn import metrics\n",
    "l = L.score(x_test_scaled, y_test_scaled)\n",
    "l"
   ]
  },
  {
   "cell_type": "markdown",
   "id": "bb939abe",
   "metadata": {},
   "source": [
    "## Predicting Test Data "
   ]
  },
  {
   "cell_type": "code",
   "execution_count": 20,
   "id": "bedb2002",
   "metadata": {},
   "outputs": [],
   "source": [
    "phi_test_scaled = scaler.transform(phi_test)"
   ]
  },
  {
   "cell_type": "markdown",
   "id": "5d7bb6f6",
   "metadata": {},
   "source": [
    "Since, when compared Linear regression model with L1 Normalization and L2 Normalization. It is witnessed that L2 Regularization yields more R2_Score. So, Predicting phi_test with L2 Regularization."
   ]
  },
  {
   "cell_type": "code",
   "execution_count": 21,
   "id": "9a0f6819",
   "metadata": {},
   "outputs": [],
   "source": [
    "out = R.predict(phi_test_scaled)"
   ]
  },
  {
   "cell_type": "code",
   "execution_count": 22,
   "id": "d485ef2b",
   "metadata": {},
   "outputs": [],
   "source": [
    "out_df = pd.DataFrame(loadtxt(\"R:\\\\GUVI\\\\Tasks\\\\Task-6\\\\test.csv\",delimiter=\",\",skiprows=1,usecols=(0)))"
   ]
  },
  {
   "cell_type": "code",
   "execution_count": 23,
   "id": "f26e6486",
   "metadata": {},
   "outputs": [],
   "source": [
    "out_df.rename(columns={0:\"ID\"}, inplace=True)"
   ]
  },
  {
   "cell_type": "code",
   "execution_count": 24,
   "id": "26dea5ad",
   "metadata": {},
   "outputs": [],
   "source": [
    "out_df[\"Output\"] = out"
   ]
  },
  {
   "cell_type": "markdown",
   "id": "14546f88",
   "metadata": {},
   "source": [
    "## Writing Output to .csv file"
   ]
  },
  {
   "cell_type": "code",
   "execution_count": 25,
   "id": "866fadb8",
   "metadata": {},
   "outputs": [],
   "source": [
    "out_df.to_csv(\"Output.csv\", index=False, header=True)"
   ]
  }
 ],
 "metadata": {
  "kernelspec": {
   "display_name": "pandas_venv",
   "language": "python",
   "name": "pandas_venv"
  },
  "language_info": {
   "codemirror_mode": {
    "name": "ipython",
    "version": 3
   },
   "file_extension": ".py",
   "mimetype": "text/x-python",
   "name": "python",
   "nbconvert_exporter": "python",
   "pygments_lexer": "ipython3",
   "version": "3.10.7"
  }
 },
 "nbformat": 4,
 "nbformat_minor": 5
}

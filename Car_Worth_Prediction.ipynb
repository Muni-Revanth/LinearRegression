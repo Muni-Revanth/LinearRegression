{
 "cells": [
  {
   "cell_type": "markdown",
   "id": "367fdbfb",
   "metadata": {},
   "source": [
    "# How Much is Your Car Worth?\n",
    "\n",
    "Data about the retail price of 2005 General Motors cars can be found in `car_data.csv`.\n",
    "\n",
    "The columns are:\n",
    "\n",
    "1. Price: suggested retail price of the used 2005 GM car in excellent condition.\n",
    "2. Mileage: number of miles the car has been driven\n",
    "3. Make: manufacturer of the car such as Saturn, Pontiac, and Chevrolet\n",
    "4. Model: specific models for each car manufacturer such as Ion, Vibe, Cavalier\n",
    "5. Trim (of car): specific type of car model such as SE Sedan 4D, Quad Coupe 2D          \n",
    "6. Type: body type such as sedan, coupe, etc.      \n",
    "7. Cylinder: number of cylinders in the engine        \n",
    "8. Liter: a more specific measure of engine size     \n",
    "9. Doors: number of doors           \n",
    "10. Cruise: indicator variable representing whether the car has cruise control (1 = cruise)\n",
    "11. Sound: indicator variable representing whether the car has upgraded speakers (1 = upgraded)\n",
    "12. Leather: indicator variable representing whether the car has leather seats (1 = leather)\n",
    "\n",
    "## Tasks, Part 1\n",
    "\n",
    "1. Find the linear regression equation for mileage vs price.\n",
    "2. Chart the original data and the equation on the chart.\n",
    "3. Find the equation's $R^2$ score (use the `.score` method) to determine whether the\n",
    "equation is a good fit for this data. (0.8 and greater is considered a strong correlation.)\n",
    "\n",
    "## Tasks, Part 2\n",
    "\n",
    "1. Use mileage, cylinders, liters, doors, cruise, sound, and leather to find the linear regression equation.\n",
    "2. Find the equation's $R^2$ score (use the `.score` method) to determine whether the\n",
    "equation is a good fit for this data. (0.8 and greater is considered a strong correlation.)\n",
    "3. Find the combination of the factors that is the best predictor for price.\n",
    "\n",
    "## Tasks, Hard Mode\n",
    "\n",
    "1. Research dummy variables in scikit-learn to see how to use the make, model, and body type.\n",
    "2. Find the best combination of factors to predict price."
   ]
  },
  {
   "cell_type": "markdown",
   "id": "db0cb30a",
   "metadata": {},
   "source": [
    "## Importing Necessary Libraries"
   ]
  },
  {
   "cell_type": "code",
   "execution_count": 219,
   "id": "356d8f31",
   "metadata": {},
   "outputs": [],
   "source": [
    "import pandas as pd\n",
    "import numpy as np\n",
    "import matplotlib.pyplot as plt"
   ]
  },
  {
   "cell_type": "markdown",
   "id": "14da1f05",
   "metadata": {},
   "source": [
    "## Importing Dataset"
   ]
  },
  {
   "cell_type": "code",
   "execution_count": 220,
   "id": "5d463acd",
   "metadata": {},
   "outputs": [],
   "source": [
    "df = pd.read_csv(\"R:\\\\Dataset\\\\car_data.csv\")"
   ]
  },
  {
   "cell_type": "code",
   "execution_count": 221,
   "id": "158d0615",
   "metadata": {},
   "outputs": [
    {
     "data": {
      "text/html": [
       "<div>\n",
       "<style scoped>\n",
       "    .dataframe tbody tr th:only-of-type {\n",
       "        vertical-align: middle;\n",
       "    }\n",
       "\n",
       "    .dataframe tbody tr th {\n",
       "        vertical-align: top;\n",
       "    }\n",
       "\n",
       "    .dataframe thead th {\n",
       "        text-align: right;\n",
       "    }\n",
       "</style>\n",
       "<table border=\"1\" class=\"dataframe\">\n",
       "  <thead>\n",
       "    <tr style=\"text-align: right;\">\n",
       "      <th></th>\n",
       "      <th>Price</th>\n",
       "      <th>Mileage</th>\n",
       "      <th>Make</th>\n",
       "      <th>Model</th>\n",
       "      <th>Trim</th>\n",
       "      <th>Type</th>\n",
       "      <th>Cylinder</th>\n",
       "      <th>Liter</th>\n",
       "      <th>Doors</th>\n",
       "      <th>Cruise</th>\n",
       "      <th>Sound</th>\n",
       "      <th>Leather</th>\n",
       "    </tr>\n",
       "  </thead>\n",
       "  <tbody>\n",
       "    <tr>\n",
       "      <th>0</th>\n",
       "      <td>17314.103129</td>\n",
       "      <td>8221</td>\n",
       "      <td>Buick</td>\n",
       "      <td>Century</td>\n",
       "      <td>Sedan 4D</td>\n",
       "      <td>Sedan</td>\n",
       "      <td>6</td>\n",
       "      <td>3.1</td>\n",
       "      <td>4</td>\n",
       "      <td>1</td>\n",
       "      <td>1</td>\n",
       "      <td>1</td>\n",
       "    </tr>\n",
       "    <tr>\n",
       "      <th>1</th>\n",
       "      <td>17542.036083</td>\n",
       "      <td>9135</td>\n",
       "      <td>Buick</td>\n",
       "      <td>Century</td>\n",
       "      <td>Sedan 4D</td>\n",
       "      <td>Sedan</td>\n",
       "      <td>6</td>\n",
       "      <td>3.1</td>\n",
       "      <td>4</td>\n",
       "      <td>1</td>\n",
       "      <td>1</td>\n",
       "      <td>0</td>\n",
       "    </tr>\n",
       "    <tr>\n",
       "      <th>2</th>\n",
       "      <td>16218.847862</td>\n",
       "      <td>13196</td>\n",
       "      <td>Buick</td>\n",
       "      <td>Century</td>\n",
       "      <td>Sedan 4D</td>\n",
       "      <td>Sedan</td>\n",
       "      <td>6</td>\n",
       "      <td>3.1</td>\n",
       "      <td>4</td>\n",
       "      <td>1</td>\n",
       "      <td>1</td>\n",
       "      <td>0</td>\n",
       "    </tr>\n",
       "    <tr>\n",
       "      <th>3</th>\n",
       "      <td>16336.913140</td>\n",
       "      <td>16342</td>\n",
       "      <td>Buick</td>\n",
       "      <td>Century</td>\n",
       "      <td>Sedan 4D</td>\n",
       "      <td>Sedan</td>\n",
       "      <td>6</td>\n",
       "      <td>3.1</td>\n",
       "      <td>4</td>\n",
       "      <td>1</td>\n",
       "      <td>0</td>\n",
       "      <td>0</td>\n",
       "    </tr>\n",
       "    <tr>\n",
       "      <th>4</th>\n",
       "      <td>16339.170324</td>\n",
       "      <td>19832</td>\n",
       "      <td>Buick</td>\n",
       "      <td>Century</td>\n",
       "      <td>Sedan 4D</td>\n",
       "      <td>Sedan</td>\n",
       "      <td>6</td>\n",
       "      <td>3.1</td>\n",
       "      <td>4</td>\n",
       "      <td>1</td>\n",
       "      <td>0</td>\n",
       "      <td>1</td>\n",
       "    </tr>\n",
       "  </tbody>\n",
       "</table>\n",
       "</div>"
      ],
      "text/plain": [
       "          Price  Mileage   Make    Model      Trim   Type  Cylinder  Liter  \\\n",
       "0  17314.103129     8221  Buick  Century  Sedan 4D  Sedan         6    3.1   \n",
       "1  17542.036083     9135  Buick  Century  Sedan 4D  Sedan         6    3.1   \n",
       "2  16218.847862    13196  Buick  Century  Sedan 4D  Sedan         6    3.1   \n",
       "3  16336.913140    16342  Buick  Century  Sedan 4D  Sedan         6    3.1   \n",
       "4  16339.170324    19832  Buick  Century  Sedan 4D  Sedan         6    3.1   \n",
       "\n",
       "   Doors  Cruise  Sound  Leather  \n",
       "0      4       1      1        1  \n",
       "1      4       1      1        0  \n",
       "2      4       1      1        0  \n",
       "3      4       1      0        0  \n",
       "4      4       1      0        1  "
      ]
     },
     "execution_count": 221,
     "metadata": {},
     "output_type": "execute_result"
    }
   ],
   "source": [
    "df.head()"
   ]
  },
  {
   "cell_type": "markdown",
   "id": "295be5d3",
   "metadata": {},
   "source": [
    "## Data Cleaning"
   ]
  },
  {
   "cell_type": "code",
   "execution_count": 222,
   "id": "92f895c4",
   "metadata": {
    "scrolled": true
   },
   "outputs": [
    {
     "data": {
      "text/plain": [
       "Price       0\n",
       "Mileage     0\n",
       "Make        0\n",
       "Model       0\n",
       "Trim        0\n",
       "Type        0\n",
       "Cylinder    0\n",
       "Liter       0\n",
       "Doors       0\n",
       "Cruise      0\n",
       "Sound       0\n",
       "Leather     0\n",
       "dtype: int64"
      ]
     },
     "execution_count": 222,
     "metadata": {},
     "output_type": "execute_result"
    }
   ],
   "source": [
    "df.isnull().sum()"
   ]
  },
  {
   "cell_type": "code",
   "execution_count": 223,
   "id": "9c721f14",
   "metadata": {},
   "outputs": [
    {
     "data": {
      "text/plain": [
       "Price       float64\n",
       "Mileage       int64\n",
       "Make         object\n",
       "Model        object\n",
       "Trim         object\n",
       "Type         object\n",
       "Cylinder      int64\n",
       "Liter       float64\n",
       "Doors         int64\n",
       "Cruise        int64\n",
       "Sound         int64\n",
       "Leather       int64\n",
       "dtype: object"
      ]
     },
     "execution_count": 223,
     "metadata": {},
     "output_type": "execute_result"
    }
   ],
   "source": [
    "df.dtypes"
   ]
  },
  {
   "cell_type": "code",
   "execution_count": 224,
   "id": "5b44b621",
   "metadata": {},
   "outputs": [
    {
     "data": {
      "text/html": [
       "<div>\n",
       "<style scoped>\n",
       "    .dataframe tbody tr th:only-of-type {\n",
       "        vertical-align: middle;\n",
       "    }\n",
       "\n",
       "    .dataframe tbody tr th {\n",
       "        vertical-align: top;\n",
       "    }\n",
       "\n",
       "    .dataframe thead th {\n",
       "        text-align: right;\n",
       "    }\n",
       "</style>\n",
       "<table border=\"1\" class=\"dataframe\">\n",
       "  <thead>\n",
       "    <tr style=\"text-align: right;\">\n",
       "      <th></th>\n",
       "      <th>Price</th>\n",
       "      <th>Mileage</th>\n",
       "      <th>Cylinder</th>\n",
       "      <th>Liter</th>\n",
       "      <th>Doors</th>\n",
       "      <th>Cruise</th>\n",
       "      <th>Sound</th>\n",
       "      <th>Leather</th>\n",
       "    </tr>\n",
       "  </thead>\n",
       "  <tbody>\n",
       "    <tr>\n",
       "      <th>count</th>\n",
       "      <td>804.000000</td>\n",
       "      <td>804.000000</td>\n",
       "      <td>804.000000</td>\n",
       "      <td>804.000000</td>\n",
       "      <td>804.000000</td>\n",
       "      <td>804.000000</td>\n",
       "      <td>804.000000</td>\n",
       "      <td>804.000000</td>\n",
       "    </tr>\n",
       "    <tr>\n",
       "      <th>mean</th>\n",
       "      <td>21343.143767</td>\n",
       "      <td>19831.934080</td>\n",
       "      <td>5.268657</td>\n",
       "      <td>3.037313</td>\n",
       "      <td>3.527363</td>\n",
       "      <td>0.752488</td>\n",
       "      <td>0.679104</td>\n",
       "      <td>0.723881</td>\n",
       "    </tr>\n",
       "    <tr>\n",
       "      <th>std</th>\n",
       "      <td>9884.852801</td>\n",
       "      <td>8196.319707</td>\n",
       "      <td>1.387531</td>\n",
       "      <td>1.105562</td>\n",
       "      <td>0.850169</td>\n",
       "      <td>0.431836</td>\n",
       "      <td>0.467111</td>\n",
       "      <td>0.447355</td>\n",
       "    </tr>\n",
       "    <tr>\n",
       "      <th>min</th>\n",
       "      <td>8638.930895</td>\n",
       "      <td>266.000000</td>\n",
       "      <td>4.000000</td>\n",
       "      <td>1.600000</td>\n",
       "      <td>2.000000</td>\n",
       "      <td>0.000000</td>\n",
       "      <td>0.000000</td>\n",
       "      <td>0.000000</td>\n",
       "    </tr>\n",
       "    <tr>\n",
       "      <th>25%</th>\n",
       "      <td>14273.073870</td>\n",
       "      <td>14623.500000</td>\n",
       "      <td>4.000000</td>\n",
       "      <td>2.200000</td>\n",
       "      <td>4.000000</td>\n",
       "      <td>1.000000</td>\n",
       "      <td>0.000000</td>\n",
       "      <td>0.000000</td>\n",
       "    </tr>\n",
       "    <tr>\n",
       "      <th>50%</th>\n",
       "      <td>18024.995019</td>\n",
       "      <td>20913.500000</td>\n",
       "      <td>6.000000</td>\n",
       "      <td>2.800000</td>\n",
       "      <td>4.000000</td>\n",
       "      <td>1.000000</td>\n",
       "      <td>1.000000</td>\n",
       "      <td>1.000000</td>\n",
       "    </tr>\n",
       "    <tr>\n",
       "      <th>75%</th>\n",
       "      <td>26717.316636</td>\n",
       "      <td>25213.000000</td>\n",
       "      <td>6.000000</td>\n",
       "      <td>3.800000</td>\n",
       "      <td>4.000000</td>\n",
       "      <td>1.000000</td>\n",
       "      <td>1.000000</td>\n",
       "      <td>1.000000</td>\n",
       "    </tr>\n",
       "    <tr>\n",
       "      <th>max</th>\n",
       "      <td>70755.466717</td>\n",
       "      <td>50387.000000</td>\n",
       "      <td>8.000000</td>\n",
       "      <td>6.000000</td>\n",
       "      <td>4.000000</td>\n",
       "      <td>1.000000</td>\n",
       "      <td>1.000000</td>\n",
       "      <td>1.000000</td>\n",
       "    </tr>\n",
       "  </tbody>\n",
       "</table>\n",
       "</div>"
      ],
      "text/plain": [
       "              Price       Mileage    Cylinder       Liter       Doors  \\\n",
       "count    804.000000    804.000000  804.000000  804.000000  804.000000   \n",
       "mean   21343.143767  19831.934080    5.268657    3.037313    3.527363   \n",
       "std     9884.852801   8196.319707    1.387531    1.105562    0.850169   \n",
       "min     8638.930895    266.000000    4.000000    1.600000    2.000000   \n",
       "25%    14273.073870  14623.500000    4.000000    2.200000    4.000000   \n",
       "50%    18024.995019  20913.500000    6.000000    2.800000    4.000000   \n",
       "75%    26717.316636  25213.000000    6.000000    3.800000    4.000000   \n",
       "max    70755.466717  50387.000000    8.000000    6.000000    4.000000   \n",
       "\n",
       "           Cruise       Sound     Leather  \n",
       "count  804.000000  804.000000  804.000000  \n",
       "mean     0.752488    0.679104    0.723881  \n",
       "std      0.431836    0.467111    0.447355  \n",
       "min      0.000000    0.000000    0.000000  \n",
       "25%      1.000000    0.000000    0.000000  \n",
       "50%      1.000000    1.000000    1.000000  \n",
       "75%      1.000000    1.000000    1.000000  \n",
       "max      1.000000    1.000000    1.000000  "
      ]
     },
     "execution_count": 224,
     "metadata": {},
     "output_type": "execute_result"
    }
   ],
   "source": [
    "df.describe()"
   ]
  },
  {
   "cell_type": "markdown",
   "id": "c699c2b5",
   "metadata": {},
   "source": [
    "### Outlier Correction"
   ]
  },
  {
   "cell_type": "code",
   "execution_count": 225,
   "id": "3768cb72",
   "metadata": {},
   "outputs": [
    {
     "data": {
      "text/plain": [
       "(45383.68078365926, -4393.290277667038)"
      ]
     },
     "execution_count": 225,
     "metadata": {},
     "output_type": "execute_result"
    }
   ],
   "source": [
    "IQR = df.Price.quantile(0.75)-df.Price.quantile(0.25)\n",
    "UL = df.Price.quantile(0.75) + (1.5*IQR)\n",
    "LL = df.Price.quantile(0.25) - (1.5*IQR)\n",
    "UL, LL"
   ]
  },
  {
   "cell_type": "code",
   "execution_count": 226,
   "id": "c8768d7d",
   "metadata": {},
   "outputs": [],
   "source": [
    "df.Price = df.Price.clip(LL, UL)"
   ]
  },
  {
   "cell_type": "code",
   "execution_count": 227,
   "id": "d23aa94b",
   "metadata": {},
   "outputs": [
    {
     "data": {
      "text/plain": [
       "(41097.25, -1260.75)"
      ]
     },
     "execution_count": 227,
     "metadata": {},
     "output_type": "execute_result"
    }
   ],
   "source": [
    "IQR = df.Mileage.quantile(0.75)-df.Mileage.quantile(0.25)\n",
    "UL = df.Mileage.quantile(0.75) + (1.5*IQR)\n",
    "LL = df.Mileage.quantile(0.25) - (1.5*IQR)\n",
    "UL, LL"
   ]
  },
  {
   "cell_type": "code",
   "execution_count": 228,
   "id": "c847fbc7",
   "metadata": {},
   "outputs": [],
   "source": [
    "df.Mileage = df.Mileage.clip(LL, UL)"
   ]
  },
  {
   "cell_type": "code",
   "execution_count": 229,
   "id": "2cd45a82",
   "metadata": {},
   "outputs": [
    {
     "data": {
      "text/plain": [
       "(6.199999999999999, -0.1999999999999993)"
      ]
     },
     "execution_count": 229,
     "metadata": {},
     "output_type": "execute_result"
    }
   ],
   "source": [
    "IQR = df.Liter.quantile(0.75)-df.Liter.quantile(0.25)\n",
    "UL = df.Liter.quantile(0.75) + (1.5*IQR)\n",
    "LL = df.Liter.quantile(0.25) - (1.5*IQR)\n",
    "UL, LL"
   ]
  },
  {
   "cell_type": "code",
   "execution_count": 230,
   "id": "639da5e8",
   "metadata": {},
   "outputs": [
    {
     "data": {
      "text/html": [
       "<div>\n",
       "<style scoped>\n",
       "    .dataframe tbody tr th:only-of-type {\n",
       "        vertical-align: middle;\n",
       "    }\n",
       "\n",
       "    .dataframe tbody tr th {\n",
       "        vertical-align: top;\n",
       "    }\n",
       "\n",
       "    .dataframe thead th {\n",
       "        text-align: right;\n",
       "    }\n",
       "</style>\n",
       "<table border=\"1\" class=\"dataframe\">\n",
       "  <thead>\n",
       "    <tr style=\"text-align: right;\">\n",
       "      <th></th>\n",
       "      <th>Price</th>\n",
       "      <th>Mileage</th>\n",
       "      <th>Cylinder</th>\n",
       "      <th>Liter</th>\n",
       "      <th>Doors</th>\n",
       "      <th>Cruise</th>\n",
       "      <th>Sound</th>\n",
       "      <th>Leather</th>\n",
       "    </tr>\n",
       "  </thead>\n",
       "  <tbody>\n",
       "    <tr>\n",
       "      <th>count</th>\n",
       "      <td>804.000000</td>\n",
       "      <td>804.000000</td>\n",
       "      <td>804.000000</td>\n",
       "      <td>804.000000</td>\n",
       "      <td>804.000000</td>\n",
       "      <td>804.000000</td>\n",
       "      <td>804.000000</td>\n",
       "      <td>804.000000</td>\n",
       "    </tr>\n",
       "    <tr>\n",
       "      <th>mean</th>\n",
       "      <td>21099.998496</td>\n",
       "      <td>19807.086132</td>\n",
       "      <td>5.268657</td>\n",
       "      <td>3.037313</td>\n",
       "      <td>3.527363</td>\n",
       "      <td>0.752488</td>\n",
       "      <td>0.679104</td>\n",
       "      <td>0.723881</td>\n",
       "    </tr>\n",
       "    <tr>\n",
       "      <th>std</th>\n",
       "      <td>9031.505318</td>\n",
       "      <td>8119.836852</td>\n",
       "      <td>1.387531</td>\n",
       "      <td>1.105562</td>\n",
       "      <td>0.850169</td>\n",
       "      <td>0.431836</td>\n",
       "      <td>0.467111</td>\n",
       "      <td>0.447355</td>\n",
       "    </tr>\n",
       "    <tr>\n",
       "      <th>min</th>\n",
       "      <td>8638.930895</td>\n",
       "      <td>266.000000</td>\n",
       "      <td>4.000000</td>\n",
       "      <td>1.600000</td>\n",
       "      <td>2.000000</td>\n",
       "      <td>0.000000</td>\n",
       "      <td>0.000000</td>\n",
       "      <td>0.000000</td>\n",
       "    </tr>\n",
       "    <tr>\n",
       "      <th>25%</th>\n",
       "      <td>14273.073870</td>\n",
       "      <td>14623.500000</td>\n",
       "      <td>4.000000</td>\n",
       "      <td>2.200000</td>\n",
       "      <td>4.000000</td>\n",
       "      <td>1.000000</td>\n",
       "      <td>0.000000</td>\n",
       "      <td>0.000000</td>\n",
       "    </tr>\n",
       "    <tr>\n",
       "      <th>50%</th>\n",
       "      <td>18024.995019</td>\n",
       "      <td>20913.500000</td>\n",
       "      <td>6.000000</td>\n",
       "      <td>2.800000</td>\n",
       "      <td>4.000000</td>\n",
       "      <td>1.000000</td>\n",
       "      <td>1.000000</td>\n",
       "      <td>1.000000</td>\n",
       "    </tr>\n",
       "    <tr>\n",
       "      <th>75%</th>\n",
       "      <td>26717.316636</td>\n",
       "      <td>25213.000000</td>\n",
       "      <td>6.000000</td>\n",
       "      <td>3.800000</td>\n",
       "      <td>4.000000</td>\n",
       "      <td>1.000000</td>\n",
       "      <td>1.000000</td>\n",
       "      <td>1.000000</td>\n",
       "    </tr>\n",
       "    <tr>\n",
       "      <th>max</th>\n",
       "      <td>45383.680784</td>\n",
       "      <td>41097.250000</td>\n",
       "      <td>8.000000</td>\n",
       "      <td>6.000000</td>\n",
       "      <td>4.000000</td>\n",
       "      <td>1.000000</td>\n",
       "      <td>1.000000</td>\n",
       "      <td>1.000000</td>\n",
       "    </tr>\n",
       "  </tbody>\n",
       "</table>\n",
       "</div>"
      ],
      "text/plain": [
       "              Price       Mileage    Cylinder       Liter       Doors  \\\n",
       "count    804.000000    804.000000  804.000000  804.000000  804.000000   \n",
       "mean   21099.998496  19807.086132    5.268657    3.037313    3.527363   \n",
       "std     9031.505318   8119.836852    1.387531    1.105562    0.850169   \n",
       "min     8638.930895    266.000000    4.000000    1.600000    2.000000   \n",
       "25%    14273.073870  14623.500000    4.000000    2.200000    4.000000   \n",
       "50%    18024.995019  20913.500000    6.000000    2.800000    4.000000   \n",
       "75%    26717.316636  25213.000000    6.000000    3.800000    4.000000   \n",
       "max    45383.680784  41097.250000    8.000000    6.000000    4.000000   \n",
       "\n",
       "           Cruise       Sound     Leather  \n",
       "count  804.000000  804.000000  804.000000  \n",
       "mean     0.752488    0.679104    0.723881  \n",
       "std      0.431836    0.467111    0.447355  \n",
       "min      0.000000    0.000000    0.000000  \n",
       "25%      1.000000    0.000000    0.000000  \n",
       "50%      1.000000    1.000000    1.000000  \n",
       "75%      1.000000    1.000000    1.000000  \n",
       "max      1.000000    1.000000    1.000000  "
      ]
     },
     "execution_count": 230,
     "metadata": {},
     "output_type": "execute_result"
    }
   ],
   "source": [
    "df.describe()"
   ]
  },
  {
   "cell_type": "code",
   "execution_count": 231,
   "id": "bab39058",
   "metadata": {},
   "outputs": [
    {
     "data": {
      "text/plain": [
       "(804, 12)"
      ]
     },
     "execution_count": 231,
     "metadata": {},
     "output_type": "execute_result"
    }
   ],
   "source": [
    "df.drop_duplicates()\n",
    "df.shape"
   ]
  },
  {
   "cell_type": "markdown",
   "id": "38efa857",
   "metadata": {},
   "source": [
    "# PART-1 : EDA"
   ]
  },
  {
   "cell_type": "code",
   "execution_count": 232,
   "id": "e03066dc",
   "metadata": {},
   "outputs": [
    {
     "data": {
      "text/plain": [
       "<AxesSubplot: xlabel='Price', ylabel='Mileage'>"
      ]
     },
     "execution_count": 232,
     "metadata": {},
     "output_type": "execute_result"
    },
    {
     "data": {
      "image/png": "[encoded data removed]",
      "text/plain": [
       "<Figure size 640x480 with 1 Axes>"
      ]
     },
     "metadata": {},
     "output_type": "display_data"
    }
   ],
   "source": [
    "df.plot(\"Price\",\"Mileage\",kind=\"scatter\")"
   ]
  },
  {
   "cell_type": "code",
   "execution_count": 233,
   "id": "24a014a3",
   "metadata": {
    "scrolled": false
   },
   "outputs": [
    {
     "name": "stderr",
     "output_type": "stream",
     "text": [
      "C:\\Users\\Revanth\\AppData\\Local\\Temp\\ipykernel_10788\\1134722465.py:1: FutureWarning: The default value of numeric_only in DataFrame.corr is deprecated. In a future version, it will default to False. Select only valid columns or specify the value of numeric_only to silence this warning.\n",
      "  df.corr()\n"
     ]
    },
    {
     "data": {
      "text/html": [
       "<div>\n",
       "<style scoped>\n",
       "    .dataframe tbody tr th:only-of-type {\n",
       "        vertical-align: middle;\n",
       "    }\n",
       "\n",
       "    .dataframe tbody tr th {\n",
       "        vertical-align: top;\n",
       "    }\n",
       "\n",
       "    .dataframe thead th {\n",
       "        text-align: right;\n",
       "    }\n",
       "</style>\n",
       "<table border=\"1\" class=\"dataframe\">\n",
       "  <thead>\n",
       "    <tr style=\"text-align: right;\">\n",
       "      <th></th>\n",
       "      <th>Price</th>\n",
       "      <th>Mileage</th>\n",
       "      <th>Cylinder</th>\n",
       "      <th>Liter</th>\n",
       "      <th>Doors</th>\n",
       "      <th>Cruise</th>\n",
       "      <th>Sound</th>\n",
       "      <th>Leather</th>\n",
       "    </tr>\n",
       "  </thead>\n",
       "  <tbody>\n",
       "    <tr>\n",
       "      <th>Price</th>\n",
       "      <td>1.000000</td>\n",
       "      <td>-0.138997</td>\n",
       "      <td>0.569795</td>\n",
       "      <td>0.570744</td>\n",
       "      <td>-0.108917</td>\n",
       "      <td>0.456111</td>\n",
       "      <td>-0.149583</td>\n",
       "      <td>0.155412</td>\n",
       "    </tr>\n",
       "    <tr>\n",
       "      <th>Mileage</th>\n",
       "      <td>-0.138997</td>\n",
       "      <td>1.000000</td>\n",
       "      <td>-0.028069</td>\n",
       "      <td>-0.016878</td>\n",
       "      <td>-0.015384</td>\n",
       "      <td>0.023516</td>\n",
       "      <td>-0.025447</td>\n",
       "      <td>-0.000876</td>\n",
       "    </tr>\n",
       "    <tr>\n",
       "      <th>Cylinder</th>\n",
       "      <td>0.569795</td>\n",
       "      <td>-0.028069</td>\n",
       "      <td>1.000000</td>\n",
       "      <td>0.957897</td>\n",
       "      <td>0.002206</td>\n",
       "      <td>0.354285</td>\n",
       "      <td>-0.089704</td>\n",
       "      <td>0.075520</td>\n",
       "    </tr>\n",
       "    <tr>\n",
       "      <th>Liter</th>\n",
       "      <td>0.570744</td>\n",
       "      <td>-0.016878</td>\n",
       "      <td>0.957897</td>\n",
       "      <td>1.000000</td>\n",
       "      <td>-0.079259</td>\n",
       "      <td>0.377509</td>\n",
       "      <td>-0.065527</td>\n",
       "      <td>0.087332</td>\n",
       "    </tr>\n",
       "    <tr>\n",
       "      <th>Doors</th>\n",
       "      <td>-0.108917</td>\n",
       "      <td>-0.015384</td>\n",
       "      <td>0.002206</td>\n",
       "      <td>-0.079259</td>\n",
       "      <td>1.000000</td>\n",
       "      <td>-0.047674</td>\n",
       "      <td>-0.062530</td>\n",
       "      <td>-0.061969</td>\n",
       "    </tr>\n",
       "    <tr>\n",
       "      <th>Cruise</th>\n",
       "      <td>0.456111</td>\n",
       "      <td>0.023516</td>\n",
       "      <td>0.354285</td>\n",
       "      <td>0.377509</td>\n",
       "      <td>-0.047674</td>\n",
       "      <td>1.000000</td>\n",
       "      <td>-0.091730</td>\n",
       "      <td>-0.070573</td>\n",
       "    </tr>\n",
       "    <tr>\n",
       "      <th>Sound</th>\n",
       "      <td>-0.149583</td>\n",
       "      <td>-0.025447</td>\n",
       "      <td>-0.089704</td>\n",
       "      <td>-0.065527</td>\n",
       "      <td>-0.062530</td>\n",
       "      <td>-0.091730</td>\n",
       "      <td>1.000000</td>\n",
       "      <td>0.165444</td>\n",
       "    </tr>\n",
       "    <tr>\n",
       "      <th>Leather</th>\n",
       "      <td>0.155412</td>\n",
       "      <td>-0.000876</td>\n",
       "      <td>0.075520</td>\n",
       "      <td>0.087332</td>\n",
       "      <td>-0.061969</td>\n",
       "      <td>-0.070573</td>\n",
       "      <td>0.165444</td>\n",
       "      <td>1.000000</td>\n",
       "    </tr>\n",
       "  </tbody>\n",
       "</table>\n",
       "</div>"
      ],
      "text/plain": [
       "             Price   Mileage  Cylinder     Liter     Doors    Cruise  \\\n",
       "Price     1.000000 -0.138997  0.569795  0.570744 -0.108917  0.456111   \n",
       "Mileage  -0.138997  1.000000 -0.028069 -0.016878 -0.015384  0.023516   \n",
       "Cylinder  0.569795 -0.028069  1.000000  0.957897  0.002206  0.354285   \n",
       "Liter     0.570744 -0.016878  0.957897  1.000000 -0.079259  0.377509   \n",
       "Doors    -0.108917 -0.015384  0.002206 -0.079259  1.000000 -0.047674   \n",
       "Cruise    0.456111  0.023516  0.354285  0.377509 -0.047674  1.000000   \n",
       "Sound    -0.149583 -0.025447 -0.089704 -0.065527 -0.062530 -0.091730   \n",
       "Leather   0.155412 -0.000876  0.075520  0.087332 -0.061969 -0.070573   \n",
       "\n",
       "             Sound   Leather  \n",
       "Price    -0.149583  0.155412  \n",
       "Mileage  -0.025447 -0.000876  \n",
       "Cylinder -0.089704  0.075520  \n",
       "Liter    -0.065527  0.087332  \n",
       "Doors    -0.062530 -0.061969  \n",
       "Cruise   -0.091730 -0.070573  \n",
       "Sound     1.000000  0.165444  \n",
       "Leather   0.165444  1.000000  "
      ]
     },
     "execution_count": 233,
     "metadata": {},
     "output_type": "execute_result"
    }
   ],
   "source": [
    "df.corr()"
   ]
  },
  {
   "cell_type": "markdown",
   "id": "e4c57209",
   "metadata": {},
   "source": [
    "No Linear Relationship has been witnessed"
   ]
  },
  {
   "cell_type": "markdown",
   "id": "f1d941a0",
   "metadata": {},
   "source": [
    "### Trying some transformations to get Linear Relationship between Mileage and Price"
   ]
  },
  {
   "cell_type": "code",
   "execution_count": 234,
   "id": "9df403fa",
   "metadata": {},
   "outputs": [],
   "source": [
    "df[\"Mileage_transformed\"] = np.log2(df[\"Mileage\"])"
   ]
  },
  {
   "cell_type": "code",
   "execution_count": 235,
   "id": "162ef84e",
   "metadata": {},
   "outputs": [
    {
     "name": "stderr",
     "output_type": "stream",
     "text": [
      "C:\\Users\\Revanth\\AppData\\Local\\Temp\\ipykernel_10788\\1134722465.py:1: FutureWarning: The default value of numeric_only in DataFrame.corr is deprecated. In a future version, it will default to False. Select only valid columns or specify the value of numeric_only to silence this warning.\n",
      "  df.corr()\n"
     ]
    },
    {
     "data": {
      "text/html": [
       "<div>\n",
       "<style scoped>\n",
       "    .dataframe tbody tr th:only-of-type {\n",
       "        vertical-align: middle;\n",
       "    }\n",
       "\n",
       "    .dataframe tbody tr th {\n",
       "        vertical-align: top;\n",
       "    }\n",
       "\n",
       "    .dataframe thead th {\n",
       "        text-align: right;\n",
       "    }\n",
       "</style>\n",
       "<table border=\"1\" class=\"dataframe\">\n",
       "  <thead>\n",
       "    <tr style=\"text-align: right;\">\n",
       "      <th></th>\n",
       "      <th>Price</th>\n",
       "      <th>Mileage</th>\n",
       "      <th>Cylinder</th>\n",
       "      <th>Liter</th>\n",
       "      <th>Doors</th>\n",
       "      <th>Cruise</th>\n",
       "      <th>Sound</th>\n",
       "      <th>Leather</th>\n",
       "      <th>Mileage_transformed</th>\n",
       "    </tr>\n",
       "  </thead>\n",
       "  <tbody>\n",
       "    <tr>\n",
       "      <th>Price</th>\n",
       "      <td>1.000000</td>\n",
       "      <td>-0.138997</td>\n",
       "      <td>0.569795</td>\n",
       "      <td>0.570744</td>\n",
       "      <td>-0.108917</td>\n",
       "      <td>0.456111</td>\n",
       "      <td>-0.149583</td>\n",
       "      <td>0.155412</td>\n",
       "      <td>-0.128535</td>\n",
       "    </tr>\n",
       "    <tr>\n",
       "      <th>Mileage</th>\n",
       "      <td>-0.138997</td>\n",
       "      <td>1.000000</td>\n",
       "      <td>-0.028069</td>\n",
       "      <td>-0.016878</td>\n",
       "      <td>-0.015384</td>\n",
       "      <td>0.023516</td>\n",
       "      <td>-0.025447</td>\n",
       "      <td>-0.000876</td>\n",
       "      <td>0.899367</td>\n",
       "    </tr>\n",
       "    <tr>\n",
       "      <th>Cylinder</th>\n",
       "      <td>0.569795</td>\n",
       "      <td>-0.028069</td>\n",
       "      <td>1.000000</td>\n",
       "      <td>0.957897</td>\n",
       "      <td>0.002206</td>\n",
       "      <td>0.354285</td>\n",
       "      <td>-0.089704</td>\n",
       "      <td>0.075520</td>\n",
       "      <td>-0.033603</td>\n",
       "    </tr>\n",
       "    <tr>\n",
       "      <th>Liter</th>\n",
       "      <td>0.570744</td>\n",
       "      <td>-0.016878</td>\n",
       "      <td>0.957897</td>\n",
       "      <td>1.000000</td>\n",
       "      <td>-0.079259</td>\n",
       "      <td>0.377509</td>\n",
       "      <td>-0.065527</td>\n",
       "      <td>0.087332</td>\n",
       "      <td>-0.023885</td>\n",
       "    </tr>\n",
       "    <tr>\n",
       "      <th>Doors</th>\n",
       "      <td>-0.108917</td>\n",
       "      <td>-0.015384</td>\n",
       "      <td>0.002206</td>\n",
       "      <td>-0.079259</td>\n",
       "      <td>1.000000</td>\n",
       "      <td>-0.047674</td>\n",
       "      <td>-0.062530</td>\n",
       "      <td>-0.061969</td>\n",
       "      <td>-0.006214</td>\n",
       "    </tr>\n",
       "    <tr>\n",
       "      <th>Cruise</th>\n",
       "      <td>0.456111</td>\n",
       "      <td>0.023516</td>\n",
       "      <td>0.354285</td>\n",
       "      <td>0.377509</td>\n",
       "      <td>-0.047674</td>\n",
       "      <td>1.000000</td>\n",
       "      <td>-0.091730</td>\n",
       "      <td>-0.070573</td>\n",
       "      <td>0.016361</td>\n",
       "    </tr>\n",
       "    <tr>\n",
       "      <th>Sound</th>\n",
       "      <td>-0.149583</td>\n",
       "      <td>-0.025447</td>\n",
       "      <td>-0.089704</td>\n",
       "      <td>-0.065527</td>\n",
       "      <td>-0.062530</td>\n",
       "      <td>-0.091730</td>\n",
       "      <td>1.000000</td>\n",
       "      <td>0.165444</td>\n",
       "      <td>-0.021773</td>\n",
       "    </tr>\n",
       "    <tr>\n",
       "      <th>Leather</th>\n",
       "      <td>0.155412</td>\n",
       "      <td>-0.000876</td>\n",
       "      <td>0.075520</td>\n",
       "      <td>0.087332</td>\n",
       "      <td>-0.061969</td>\n",
       "      <td>-0.070573</td>\n",
       "      <td>0.165444</td>\n",
       "      <td>1.000000</td>\n",
       "      <td>-0.006579</td>\n",
       "    </tr>\n",
       "    <tr>\n",
       "      <th>Mileage_transformed</th>\n",
       "      <td>-0.128535</td>\n",
       "      <td>0.899367</td>\n",
       "      <td>-0.033603</td>\n",
       "      <td>-0.023885</td>\n",
       "      <td>-0.006214</td>\n",
       "      <td>0.016361</td>\n",
       "      <td>-0.021773</td>\n",
       "      <td>-0.006579</td>\n",
       "      <td>1.000000</td>\n",
       "    </tr>\n",
       "  </tbody>\n",
       "</table>\n",
       "</div>"
      ],
      "text/plain": [
       "                        Price   Mileage  Cylinder     Liter     Doors  \\\n",
       "Price                1.000000 -0.138997  0.569795  0.570744 -0.108917   \n",
       "Mileage             -0.138997  1.000000 -0.028069 -0.016878 -0.015384   \n",
       "Cylinder             0.569795 -0.028069  1.000000  0.957897  0.002206   \n",
       "Liter                0.570744 -0.016878  0.957897  1.000000 -0.079259   \n",
       "Doors               -0.108917 -0.015384  0.002206 -0.079259  1.000000   \n",
       "Cruise               0.456111  0.023516  0.354285  0.377509 -0.047674   \n",
       "Sound               -0.149583 -0.025447 -0.089704 -0.065527 -0.062530   \n",
       "Leather              0.155412 -0.000876  0.075520  0.087332 -0.061969   \n",
       "Mileage_transformed -0.128535  0.899367 -0.033603 -0.023885 -0.006214   \n",
       "\n",
       "                       Cruise     Sound   Leather  Mileage_transformed  \n",
       "Price                0.456111 -0.149583  0.155412            -0.128535  \n",
       "Mileage              0.023516 -0.025447 -0.000876             0.899367  \n",
       "Cylinder             0.354285 -0.089704  0.075520            -0.033603  \n",
       "Liter                0.377509 -0.065527  0.087332            -0.023885  \n",
       "Doors               -0.047674 -0.062530 -0.061969            -0.006214  \n",
       "Cruise               1.000000 -0.091730 -0.070573             0.016361  \n",
       "Sound               -0.091730  1.000000  0.165444            -0.021773  \n",
       "Leather             -0.070573  0.165444  1.000000            -0.006579  \n",
       "Mileage_transformed  0.016361 -0.021773 -0.006579             1.000000  "
      ]
     },
     "execution_count": 235,
     "metadata": {},
     "output_type": "execute_result"
    }
   ],
   "source": [
    "df.corr()"
   ]
  },
  {
   "cell_type": "code",
   "execution_count": 236,
   "id": "de41cb47",
   "metadata": {},
   "outputs": [],
   "source": [
    "df[\"Mileage_transformed\"] = np.power(df[\"Mileage\"],2)"
   ]
  },
  {
   "cell_type": "code",
   "execution_count": 237,
   "id": "8e37a545",
   "metadata": {},
   "outputs": [
    {
     "name": "stderr",
     "output_type": "stream",
     "text": [
      "C:\\Users\\Revanth\\AppData\\Local\\Temp\\ipykernel_10788\\1134722465.py:1: FutureWarning: The default value of numeric_only in DataFrame.corr is deprecated. In a future version, it will default to False. Select only valid columns or specify the value of numeric_only to silence this warning.\n",
      "  df.corr()\n"
     ]
    },
    {
     "data": {
      "text/html": [
       "<div>\n",
       "<style scoped>\n",
       "    .dataframe tbody tr th:only-of-type {\n",
       "        vertical-align: middle;\n",
       "    }\n",
       "\n",
       "    .dataframe tbody tr th {\n",
       "        vertical-align: top;\n",
       "    }\n",
       "\n",
       "    .dataframe thead th {\n",
       "        text-align: right;\n",
       "    }\n",
       "</style>\n",
       "<table border=\"1\" class=\"dataframe\">\n",
       "  <thead>\n",
       "    <tr style=\"text-align: right;\">\n",
       "      <th></th>\n",
       "      <th>Price</th>\n",
       "      <th>Mileage</th>\n",
       "      <th>Cylinder</th>\n",
       "      <th>Liter</th>\n",
       "      <th>Doors</th>\n",
       "      <th>Cruise</th>\n",
       "      <th>Sound</th>\n",
       "      <th>Leather</th>\n",
       "      <th>Mileage_transformed</th>\n",
       "    </tr>\n",
       "  </thead>\n",
       "  <tbody>\n",
       "    <tr>\n",
       "      <th>Price</th>\n",
       "      <td>1.000000</td>\n",
       "      <td>-0.138997</td>\n",
       "      <td>0.569795</td>\n",
       "      <td>0.570744</td>\n",
       "      <td>-0.108917</td>\n",
       "      <td>0.456111</td>\n",
       "      <td>-0.149583</td>\n",
       "      <td>0.155412</td>\n",
       "      <td>-0.123135</td>\n",
       "    </tr>\n",
       "    <tr>\n",
       "      <th>Mileage</th>\n",
       "      <td>-0.138997</td>\n",
       "      <td>1.000000</td>\n",
       "      <td>-0.028069</td>\n",
       "      <td>-0.016878</td>\n",
       "      <td>-0.015384</td>\n",
       "      <td>0.023516</td>\n",
       "      <td>-0.025447</td>\n",
       "      <td>-0.000876</td>\n",
       "      <td>0.959569</td>\n",
       "    </tr>\n",
       "    <tr>\n",
       "      <th>Cylinder</th>\n",
       "      <td>0.569795</td>\n",
       "      <td>-0.028069</td>\n",
       "      <td>1.000000</td>\n",
       "      <td>0.957897</td>\n",
       "      <td>0.002206</td>\n",
       "      <td>0.354285</td>\n",
       "      <td>-0.089704</td>\n",
       "      <td>0.075520</td>\n",
       "      <td>-0.020965</td>\n",
       "    </tr>\n",
       "    <tr>\n",
       "      <th>Liter</th>\n",
       "      <td>0.570744</td>\n",
       "      <td>-0.016878</td>\n",
       "      <td>0.957897</td>\n",
       "      <td>1.000000</td>\n",
       "      <td>-0.079259</td>\n",
       "      <td>0.377509</td>\n",
       "      <td>-0.065527</td>\n",
       "      <td>0.087332</td>\n",
       "      <td>-0.010184</td>\n",
       "    </tr>\n",
       "    <tr>\n",
       "      <th>Doors</th>\n",
       "      <td>-0.108917</td>\n",
       "      <td>-0.015384</td>\n",
       "      <td>0.002206</td>\n",
       "      <td>-0.079259</td>\n",
       "      <td>1.000000</td>\n",
       "      <td>-0.047674</td>\n",
       "      <td>-0.062530</td>\n",
       "      <td>-0.061969</td>\n",
       "      <td>-0.021124</td>\n",
       "    </tr>\n",
       "    <tr>\n",
       "      <th>Cruise</th>\n",
       "      <td>0.456111</td>\n",
       "      <td>0.023516</td>\n",
       "      <td>0.354285</td>\n",
       "      <td>0.377509</td>\n",
       "      <td>-0.047674</td>\n",
       "      <td>1.000000</td>\n",
       "      <td>-0.091730</td>\n",
       "      <td>-0.070573</td>\n",
       "      <td>0.023391</td>\n",
       "    </tr>\n",
       "    <tr>\n",
       "      <th>Sound</th>\n",
       "      <td>-0.149583</td>\n",
       "      <td>-0.025447</td>\n",
       "      <td>-0.089704</td>\n",
       "      <td>-0.065527</td>\n",
       "      <td>-0.062530</td>\n",
       "      <td>-0.091730</td>\n",
       "      <td>1.000000</td>\n",
       "      <td>0.165444</td>\n",
       "      <td>-0.015779</td>\n",
       "    </tr>\n",
       "    <tr>\n",
       "      <th>Leather</th>\n",
       "      <td>0.155412</td>\n",
       "      <td>-0.000876</td>\n",
       "      <td>0.075520</td>\n",
       "      <td>0.087332</td>\n",
       "      <td>-0.061969</td>\n",
       "      <td>-0.070573</td>\n",
       "      <td>0.165444</td>\n",
       "      <td>1.000000</td>\n",
       "      <td>0.004880</td>\n",
       "    </tr>\n",
       "    <tr>\n",
       "      <th>Mileage_transformed</th>\n",
       "      <td>-0.123135</td>\n",
       "      <td>0.959569</td>\n",
       "      <td>-0.020965</td>\n",
       "      <td>-0.010184</td>\n",
       "      <td>-0.021124</td>\n",
       "      <td>0.023391</td>\n",
       "      <td>-0.015779</td>\n",
       "      <td>0.004880</td>\n",
       "      <td>1.000000</td>\n",
       "    </tr>\n",
       "  </tbody>\n",
       "</table>\n",
       "</div>"
      ],
      "text/plain": [
       "                        Price   Mileage  Cylinder     Liter     Doors  \\\n",
       "Price                1.000000 -0.138997  0.569795  0.570744 -0.108917   \n",
       "Mileage             -0.138997  1.000000 -0.028069 -0.016878 -0.015384   \n",
       "Cylinder             0.569795 -0.028069  1.000000  0.957897  0.002206   \n",
       "Liter                0.570744 -0.016878  0.957897  1.000000 -0.079259   \n",
       "Doors               -0.108917 -0.015384  0.002206 -0.079259  1.000000   \n",
       "Cruise               0.456111  0.023516  0.354285  0.377509 -0.047674   \n",
       "Sound               -0.149583 -0.025447 -0.089704 -0.065527 -0.062530   \n",
       "Leather              0.155412 -0.000876  0.075520  0.087332 -0.061969   \n",
       "Mileage_transformed -0.123135  0.959569 -0.020965 -0.010184 -0.021124   \n",
       "\n",
       "                       Cruise     Sound   Leather  Mileage_transformed  \n",
       "Price                0.456111 -0.149583  0.155412            -0.123135  \n",
       "Mileage              0.023516 -0.025447 -0.000876             0.959569  \n",
       "Cylinder             0.354285 -0.089704  0.075520            -0.020965  \n",
       "Liter                0.377509 -0.065527  0.087332            -0.010184  \n",
       "Doors               -0.047674 -0.062530 -0.061969            -0.021124  \n",
       "Cruise               1.000000 -0.091730 -0.070573             0.023391  \n",
       "Sound               -0.091730  1.000000  0.165444            -0.015779  \n",
       "Leather             -0.070573  0.165444  1.000000             0.004880  \n",
       "Mileage_transformed  0.023391 -0.015779  0.004880             1.000000  "
      ]
     },
     "execution_count": 237,
     "metadata": {},
     "output_type": "execute_result"
    }
   ],
   "source": [
    "df.corr()"
   ]
  },
  {
   "cell_type": "code",
   "execution_count": 238,
   "id": "8e52d1e1",
   "metadata": {},
   "outputs": [],
   "source": [
    "df[\"Mileage_transformed\"] = np.power(df[\"Mileage\"],3)"
   ]
  },
  {
   "cell_type": "code",
   "execution_count": 239,
   "id": "e56c445b",
   "metadata": {},
   "outputs": [
    {
     "name": "stderr",
     "output_type": "stream",
     "text": [
      "C:\\Users\\Revanth\\AppData\\Local\\Temp\\ipykernel_10788\\1134722465.py:1: FutureWarning: The default value of numeric_only in DataFrame.corr is deprecated. In a future version, it will default to False. Select only valid columns or specify the value of numeric_only to silence this warning.\n",
      "  df.corr()\n"
     ]
    },
    {
     "data": {
      "text/html": [
       "<div>\n",
       "<style scoped>\n",
       "    .dataframe tbody tr th:only-of-type {\n",
       "        vertical-align: middle;\n",
       "    }\n",
       "\n",
       "    .dataframe tbody tr th {\n",
       "        vertical-align: top;\n",
       "    }\n",
       "\n",
       "    .dataframe thead th {\n",
       "        text-align: right;\n",
       "    }\n",
       "</style>\n",
       "<table border=\"1\" class=\"dataframe\">\n",
       "  <thead>\n",
       "    <tr style=\"text-align: right;\">\n",
       "      <th></th>\n",
       "      <th>Price</th>\n",
       "      <th>Mileage</th>\n",
       "      <th>Cylinder</th>\n",
       "      <th>Liter</th>\n",
       "      <th>Doors</th>\n",
       "      <th>Cruise</th>\n",
       "      <th>Sound</th>\n",
       "      <th>Leather</th>\n",
       "      <th>Mileage_transformed</th>\n",
       "    </tr>\n",
       "  </thead>\n",
       "  <tbody>\n",
       "    <tr>\n",
       "      <th>Price</th>\n",
       "      <td>1.000000</td>\n",
       "      <td>-0.138997</td>\n",
       "      <td>0.569795</td>\n",
       "      <td>0.570744</td>\n",
       "      <td>-0.108917</td>\n",
       "      <td>0.456111</td>\n",
       "      <td>-0.149583</td>\n",
       "      <td>0.155412</td>\n",
       "      <td>-0.100628</td>\n",
       "    </tr>\n",
       "    <tr>\n",
       "      <th>Mileage</th>\n",
       "      <td>-0.138997</td>\n",
       "      <td>1.000000</td>\n",
       "      <td>-0.028069</td>\n",
       "      <td>-0.016878</td>\n",
       "      <td>-0.015384</td>\n",
       "      <td>0.023516</td>\n",
       "      <td>-0.025447</td>\n",
       "      <td>-0.000876</td>\n",
       "      <td>0.880417</td>\n",
       "    </tr>\n",
       "    <tr>\n",
       "      <th>Cylinder</th>\n",
       "      <td>0.569795</td>\n",
       "      <td>-0.028069</td>\n",
       "      <td>1.000000</td>\n",
       "      <td>0.957897</td>\n",
       "      <td>0.002206</td>\n",
       "      <td>0.354285</td>\n",
       "      <td>-0.089704</td>\n",
       "      <td>0.075520</td>\n",
       "      <td>-0.015504</td>\n",
       "    </tr>\n",
       "    <tr>\n",
       "      <th>Liter</th>\n",
       "      <td>0.570744</td>\n",
       "      <td>-0.016878</td>\n",
       "      <td>0.957897</td>\n",
       "      <td>1.000000</td>\n",
       "      <td>-0.079259</td>\n",
       "      <td>0.377509</td>\n",
       "      <td>-0.065527</td>\n",
       "      <td>0.087332</td>\n",
       "      <td>-0.007070</td>\n",
       "    </tr>\n",
       "    <tr>\n",
       "      <th>Doors</th>\n",
       "      <td>-0.108917</td>\n",
       "      <td>-0.015384</td>\n",
       "      <td>0.002206</td>\n",
       "      <td>-0.079259</td>\n",
       "      <td>1.000000</td>\n",
       "      <td>-0.047674</td>\n",
       "      <td>-0.062530</td>\n",
       "      <td>-0.061969</td>\n",
       "      <td>-0.024017</td>\n",
       "    </tr>\n",
       "    <tr>\n",
       "      <th>Cruise</th>\n",
       "      <td>0.456111</td>\n",
       "      <td>0.023516</td>\n",
       "      <td>0.354285</td>\n",
       "      <td>0.377509</td>\n",
       "      <td>-0.047674</td>\n",
       "      <td>1.000000</td>\n",
       "      <td>-0.091730</td>\n",
       "      <td>-0.070573</td>\n",
       "      <td>0.021797</td>\n",
       "    </tr>\n",
       "    <tr>\n",
       "      <th>Sound</th>\n",
       "      <td>-0.149583</td>\n",
       "      <td>-0.025447</td>\n",
       "      <td>-0.089704</td>\n",
       "      <td>-0.065527</td>\n",
       "      <td>-0.062530</td>\n",
       "      <td>-0.091730</td>\n",
       "      <td>1.000000</td>\n",
       "      <td>0.165444</td>\n",
       "      <td>-0.006467</td>\n",
       "    </tr>\n",
       "    <tr>\n",
       "      <th>Leather</th>\n",
       "      <td>0.155412</td>\n",
       "      <td>-0.000876</td>\n",
       "      <td>0.075520</td>\n",
       "      <td>0.087332</td>\n",
       "      <td>-0.061969</td>\n",
       "      <td>-0.070573</td>\n",
       "      <td>0.165444</td>\n",
       "      <td>1.000000</td>\n",
       "      <td>0.012008</td>\n",
       "    </tr>\n",
       "    <tr>\n",
       "      <th>Mileage_transformed</th>\n",
       "      <td>-0.100628</td>\n",
       "      <td>0.880417</td>\n",
       "      <td>-0.015504</td>\n",
       "      <td>-0.007070</td>\n",
       "      <td>-0.024017</td>\n",
       "      <td>0.021797</td>\n",
       "      <td>-0.006467</td>\n",
       "      <td>0.012008</td>\n",
       "      <td>1.000000</td>\n",
       "    </tr>\n",
       "  </tbody>\n",
       "</table>\n",
       "</div>"
      ],
      "text/plain": [
       "                        Price   Mileage  Cylinder     Liter     Doors  \\\n",
       "Price                1.000000 -0.138997  0.569795  0.570744 -0.108917   \n",
       "Mileage             -0.138997  1.000000 -0.028069 -0.016878 -0.015384   \n",
       "Cylinder             0.569795 -0.028069  1.000000  0.957897  0.002206   \n",
       "Liter                0.570744 -0.016878  0.957897  1.000000 -0.079259   \n",
       "Doors               -0.108917 -0.015384  0.002206 -0.079259  1.000000   \n",
       "Cruise               0.456111  0.023516  0.354285  0.377509 -0.047674   \n",
       "Sound               -0.149583 -0.025447 -0.089704 -0.065527 -0.062530   \n",
       "Leather              0.155412 -0.000876  0.075520  0.087332 -0.061969   \n",
       "Mileage_transformed -0.100628  0.880417 -0.015504 -0.007070 -0.024017   \n",
       "\n",
       "                       Cruise     Sound   Leather  Mileage_transformed  \n",
       "Price                0.456111 -0.149583  0.155412            -0.100628  \n",
       "Mileage              0.023516 -0.025447 -0.000876             0.880417  \n",
       "Cylinder             0.354285 -0.089704  0.075520            -0.015504  \n",
       "Liter                0.377509 -0.065527  0.087332            -0.007070  \n",
       "Doors               -0.047674 -0.062530 -0.061969            -0.024017  \n",
       "Cruise               1.000000 -0.091730 -0.070573             0.021797  \n",
       "Sound               -0.091730  1.000000  0.165444            -0.006467  \n",
       "Leather             -0.070573  0.165444  1.000000             0.012008  \n",
       "Mileage_transformed  0.021797 -0.006467  0.012008             1.000000  "
      ]
     },
     "execution_count": 239,
     "metadata": {},
     "output_type": "execute_result"
    }
   ],
   "source": [
    "df.corr()"
   ]
  },
  {
   "cell_type": "code",
   "execution_count": 240,
   "id": "c5d5d60a",
   "metadata": {},
   "outputs": [],
   "source": [
    "df[\"Mileage_transformed\"] = np.power(df[\"Mileage\"],4)"
   ]
  },
  {
   "cell_type": "code",
   "execution_count": 241,
   "id": "eb79ac3e",
   "metadata": {},
   "outputs": [
    {
     "name": "stderr",
     "output_type": "stream",
     "text": [
      "C:\\Users\\Revanth\\AppData\\Local\\Temp\\ipykernel_10788\\1134722465.py:1: FutureWarning: The default value of numeric_only in DataFrame.corr is deprecated. In a future version, it will default to False. Select only valid columns or specify the value of numeric_only to silence this warning.\n",
      "  df.corr()\n"
     ]
    },
    {
     "data": {
      "text/html": [
       "<div>\n",
       "<style scoped>\n",
       "    .dataframe tbody tr th:only-of-type {\n",
       "        vertical-align: middle;\n",
       "    }\n",
       "\n",
       "    .dataframe tbody tr th {\n",
       "        vertical-align: top;\n",
       "    }\n",
       "\n",
       "    .dataframe thead th {\n",
       "        text-align: right;\n",
       "    }\n",
       "</style>\n",
       "<table border=\"1\" class=\"dataframe\">\n",
       "  <thead>\n",
       "    <tr style=\"text-align: right;\">\n",
       "      <th></th>\n",
       "      <th>Price</th>\n",
       "      <th>Mileage</th>\n",
       "      <th>Cylinder</th>\n",
       "      <th>Liter</th>\n",
       "      <th>Doors</th>\n",
       "      <th>Cruise</th>\n",
       "      <th>Sound</th>\n",
       "      <th>Leather</th>\n",
       "      <th>Mileage_transformed</th>\n",
       "    </tr>\n",
       "  </thead>\n",
       "  <tbody>\n",
       "    <tr>\n",
       "      <th>Price</th>\n",
       "      <td>1.000000</td>\n",
       "      <td>-0.138997</td>\n",
       "      <td>0.569795</td>\n",
       "      <td>0.570744</td>\n",
       "      <td>-0.108917</td>\n",
       "      <td>0.456111</td>\n",
       "      <td>-0.149583</td>\n",
       "      <td>0.155412</td>\n",
       "      <td>-0.078134</td>\n",
       "    </tr>\n",
       "    <tr>\n",
       "      <th>Mileage</th>\n",
       "      <td>-0.138997</td>\n",
       "      <td>1.000000</td>\n",
       "      <td>-0.028069</td>\n",
       "      <td>-0.016878</td>\n",
       "      <td>-0.015384</td>\n",
       "      <td>0.023516</td>\n",
       "      <td>-0.025447</td>\n",
       "      <td>-0.000876</td>\n",
       "      <td>0.794066</td>\n",
       "    </tr>\n",
       "    <tr>\n",
       "      <th>Cylinder</th>\n",
       "      <td>0.569795</td>\n",
       "      <td>-0.028069</td>\n",
       "      <td>1.000000</td>\n",
       "      <td>0.957897</td>\n",
       "      <td>0.002206</td>\n",
       "      <td>0.354285</td>\n",
       "      <td>-0.089704</td>\n",
       "      <td>0.075520</td>\n",
       "      <td>-0.012281</td>\n",
       "    </tr>\n",
       "    <tr>\n",
       "      <th>Liter</th>\n",
       "      <td>0.570744</td>\n",
       "      <td>-0.016878</td>\n",
       "      <td>0.957897</td>\n",
       "      <td>1.000000</td>\n",
       "      <td>-0.079259</td>\n",
       "      <td>0.377509</td>\n",
       "      <td>-0.065527</td>\n",
       "      <td>0.087332</td>\n",
       "      <td>-0.006762</td>\n",
       "    </tr>\n",
       "    <tr>\n",
       "      <th>Doors</th>\n",
       "      <td>-0.108917</td>\n",
       "      <td>-0.015384</td>\n",
       "      <td>0.002206</td>\n",
       "      <td>-0.079259</td>\n",
       "      <td>1.000000</td>\n",
       "      <td>-0.047674</td>\n",
       "      <td>-0.062530</td>\n",
       "      <td>-0.061969</td>\n",
       "      <td>-0.024801</td>\n",
       "    </tr>\n",
       "    <tr>\n",
       "      <th>Cruise</th>\n",
       "      <td>0.456111</td>\n",
       "      <td>0.023516</td>\n",
       "      <td>0.354285</td>\n",
       "      <td>0.377509</td>\n",
       "      <td>-0.047674</td>\n",
       "      <td>1.000000</td>\n",
       "      <td>-0.091730</td>\n",
       "      <td>-0.070573</td>\n",
       "      <td>0.020395</td>\n",
       "    </tr>\n",
       "    <tr>\n",
       "      <th>Sound</th>\n",
       "      <td>-0.149583</td>\n",
       "      <td>-0.025447</td>\n",
       "      <td>-0.089704</td>\n",
       "      <td>-0.065527</td>\n",
       "      <td>-0.062530</td>\n",
       "      <td>-0.091730</td>\n",
       "      <td>1.000000</td>\n",
       "      <td>0.165444</td>\n",
       "      <td>0.000536</td>\n",
       "    </tr>\n",
       "    <tr>\n",
       "      <th>Leather</th>\n",
       "      <td>0.155412</td>\n",
       "      <td>-0.000876</td>\n",
       "      <td>0.075520</td>\n",
       "      <td>0.087332</td>\n",
       "      <td>-0.061969</td>\n",
       "      <td>-0.070573</td>\n",
       "      <td>0.165444</td>\n",
       "      <td>1.000000</td>\n",
       "      <td>0.019322</td>\n",
       "    </tr>\n",
       "    <tr>\n",
       "      <th>Mileage_transformed</th>\n",
       "      <td>-0.078134</td>\n",
       "      <td>0.794066</td>\n",
       "      <td>-0.012281</td>\n",
       "      <td>-0.006762</td>\n",
       "      <td>-0.024801</td>\n",
       "      <td>0.020395</td>\n",
       "      <td>0.000536</td>\n",
       "      <td>0.019322</td>\n",
       "      <td>1.000000</td>\n",
       "    </tr>\n",
       "  </tbody>\n",
       "</table>\n",
       "</div>"
      ],
      "text/plain": [
       "                        Price   Mileage  Cylinder     Liter     Doors  \\\n",
       "Price                1.000000 -0.138997  0.569795  0.570744 -0.108917   \n",
       "Mileage             -0.138997  1.000000 -0.028069 -0.016878 -0.015384   \n",
       "Cylinder             0.569795 -0.028069  1.000000  0.957897  0.002206   \n",
       "Liter                0.570744 -0.016878  0.957897  1.000000 -0.079259   \n",
       "Doors               -0.108917 -0.015384  0.002206 -0.079259  1.000000   \n",
       "Cruise               0.456111  0.023516  0.354285  0.377509 -0.047674   \n",
       "Sound               -0.149583 -0.025447 -0.089704 -0.065527 -0.062530   \n",
       "Leather              0.155412 -0.000876  0.075520  0.087332 -0.061969   \n",
       "Mileage_transformed -0.078134  0.794066 -0.012281 -0.006762 -0.024801   \n",
       "\n",
       "                       Cruise     Sound   Leather  Mileage_transformed  \n",
       "Price                0.456111 -0.149583  0.155412            -0.078134  \n",
       "Mileage              0.023516 -0.025447 -0.000876             0.794066  \n",
       "Cylinder             0.354285 -0.089704  0.075520            -0.012281  \n",
       "Liter                0.377509 -0.065527  0.087332            -0.006762  \n",
       "Doors               -0.047674 -0.062530 -0.061969            -0.024801  \n",
       "Cruise               1.000000 -0.091730 -0.070573             0.020395  \n",
       "Sound               -0.091730  1.000000  0.165444             0.000536  \n",
       "Leather             -0.070573  0.165444  1.000000             0.019322  \n",
       "Mileage_transformed  0.020395  0.000536  0.019322             1.000000  "
      ]
     },
     "execution_count": 241,
     "metadata": {},
     "output_type": "execute_result"
    }
   ],
   "source": [
    "df.corr()"
   ]
  },
  {
   "cell_type": "code",
   "execution_count": 242,
   "id": "6efed926",
   "metadata": {},
   "outputs": [
    {
     "name": "stderr",
     "output_type": "stream",
     "text": [
      "C:\\Users\\Revanth\\AppData\\Local\\Programs\\Python\\Python310\\lib\\site-packages\\pandas\\core\\arraylike.py:402: RuntimeWarning: overflow encountered in exp\n",
      "  result = getattr(ufunc, method)(*inputs, **kwargs)\n"
     ]
    }
   ],
   "source": [
    "df[\"Mileage_transformed\"] = np.exp(df[\"Mileage\"])"
   ]
  },
  {
   "cell_type": "code",
   "execution_count": 243,
   "id": "081c840a",
   "metadata": {},
   "outputs": [
    {
     "name": "stderr",
     "output_type": "stream",
     "text": [
      "C:\\Users\\Revanth\\AppData\\Local\\Temp\\ipykernel_10788\\1134722465.py:1: FutureWarning: The default value of numeric_only in DataFrame.corr is deprecated. In a future version, it will default to False. Select only valid columns or specify the value of numeric_only to silence this warning.\n",
      "  df.corr()\n"
     ]
    },
    {
     "data": {
      "text/html": [
       "<div>\n",
       "<style scoped>\n",
       "    .dataframe tbody tr th:only-of-type {\n",
       "        vertical-align: middle;\n",
       "    }\n",
       "\n",
       "    .dataframe tbody tr th {\n",
       "        vertical-align: top;\n",
       "    }\n",
       "\n",
       "    .dataframe thead th {\n",
       "        text-align: right;\n",
       "    }\n",
       "</style>\n",
       "<table border=\"1\" class=\"dataframe\">\n",
       "  <thead>\n",
       "    <tr style=\"text-align: right;\">\n",
       "      <th></th>\n",
       "      <th>Price</th>\n",
       "      <th>Mileage</th>\n",
       "      <th>Cylinder</th>\n",
       "      <th>Liter</th>\n",
       "      <th>Doors</th>\n",
       "      <th>Cruise</th>\n",
       "      <th>Sound</th>\n",
       "      <th>Leather</th>\n",
       "      <th>Mileage_transformed</th>\n",
       "    </tr>\n",
       "  </thead>\n",
       "  <tbody>\n",
       "    <tr>\n",
       "      <th>Price</th>\n",
       "      <td>1.000000</td>\n",
       "      <td>-0.138997</td>\n",
       "      <td>0.569795</td>\n",
       "      <td>0.570744</td>\n",
       "      <td>-0.108917</td>\n",
       "      <td>0.456111</td>\n",
       "      <td>-0.149583</td>\n",
       "      <td>0.155412</td>\n",
       "      <td>-0.0</td>\n",
       "    </tr>\n",
       "    <tr>\n",
       "      <th>Mileage</th>\n",
       "      <td>-0.138997</td>\n",
       "      <td>1.000000</td>\n",
       "      <td>-0.028069</td>\n",
       "      <td>-0.016878</td>\n",
       "      <td>-0.015384</td>\n",
       "      <td>0.023516</td>\n",
       "      <td>-0.025447</td>\n",
       "      <td>-0.000876</td>\n",
       "      <td>0.0</td>\n",
       "    </tr>\n",
       "    <tr>\n",
       "      <th>Cylinder</th>\n",
       "      <td>0.569795</td>\n",
       "      <td>-0.028069</td>\n",
       "      <td>1.000000</td>\n",
       "      <td>0.957897</td>\n",
       "      <td>0.002206</td>\n",
       "      <td>0.354285</td>\n",
       "      <td>-0.089704</td>\n",
       "      <td>0.075520</td>\n",
       "      <td>0.0</td>\n",
       "    </tr>\n",
       "    <tr>\n",
       "      <th>Liter</th>\n",
       "      <td>0.570744</td>\n",
       "      <td>-0.016878</td>\n",
       "      <td>0.957897</td>\n",
       "      <td>1.000000</td>\n",
       "      <td>-0.079259</td>\n",
       "      <td>0.377509</td>\n",
       "      <td>-0.065527</td>\n",
       "      <td>0.087332</td>\n",
       "      <td>0.0</td>\n",
       "    </tr>\n",
       "    <tr>\n",
       "      <th>Doors</th>\n",
       "      <td>-0.108917</td>\n",
       "      <td>-0.015384</td>\n",
       "      <td>0.002206</td>\n",
       "      <td>-0.079259</td>\n",
       "      <td>1.000000</td>\n",
       "      <td>-0.047674</td>\n",
       "      <td>-0.062530</td>\n",
       "      <td>-0.061969</td>\n",
       "      <td>0.0</td>\n",
       "    </tr>\n",
       "    <tr>\n",
       "      <th>Cruise</th>\n",
       "      <td>0.456111</td>\n",
       "      <td>0.023516</td>\n",
       "      <td>0.354285</td>\n",
       "      <td>0.377509</td>\n",
       "      <td>-0.047674</td>\n",
       "      <td>1.000000</td>\n",
       "      <td>-0.091730</td>\n",
       "      <td>-0.070573</td>\n",
       "      <td>NaN</td>\n",
       "    </tr>\n",
       "    <tr>\n",
       "      <th>Sound</th>\n",
       "      <td>-0.149583</td>\n",
       "      <td>-0.025447</td>\n",
       "      <td>-0.089704</td>\n",
       "      <td>-0.065527</td>\n",
       "      <td>-0.062530</td>\n",
       "      <td>-0.091730</td>\n",
       "      <td>1.000000</td>\n",
       "      <td>0.165444</td>\n",
       "      <td>-0.0</td>\n",
       "    </tr>\n",
       "    <tr>\n",
       "      <th>Leather</th>\n",
       "      <td>0.155412</td>\n",
       "      <td>-0.000876</td>\n",
       "      <td>0.075520</td>\n",
       "      <td>0.087332</td>\n",
       "      <td>-0.061969</td>\n",
       "      <td>-0.070573</td>\n",
       "      <td>0.165444</td>\n",
       "      <td>1.000000</td>\n",
       "      <td>-0.0</td>\n",
       "    </tr>\n",
       "    <tr>\n",
       "      <th>Mileage_transformed</th>\n",
       "      <td>-0.000000</td>\n",
       "      <td>0.000000</td>\n",
       "      <td>0.000000</td>\n",
       "      <td>0.000000</td>\n",
       "      <td>0.000000</td>\n",
       "      <td>NaN</td>\n",
       "      <td>-0.000000</td>\n",
       "      <td>-0.000000</td>\n",
       "      <td>NaN</td>\n",
       "    </tr>\n",
       "  </tbody>\n",
       "</table>\n",
       "</div>"
      ],
      "text/plain": [
       "                        Price   Mileage  Cylinder     Liter     Doors  \\\n",
       "Price                1.000000 -0.138997  0.569795  0.570744 -0.108917   \n",
       "Mileage             -0.138997  1.000000 -0.028069 -0.016878 -0.015384   \n",
       "Cylinder             0.569795 -0.028069  1.000000  0.957897  0.002206   \n",
       "Liter                0.570744 -0.016878  0.957897  1.000000 -0.079259   \n",
       "Doors               -0.108917 -0.015384  0.002206 -0.079259  1.000000   \n",
       "Cruise               0.456111  0.023516  0.354285  0.377509 -0.047674   \n",
       "Sound               -0.149583 -0.025447 -0.089704 -0.065527 -0.062530   \n",
       "Leather              0.155412 -0.000876  0.075520  0.087332 -0.061969   \n",
       "Mileage_transformed -0.000000  0.000000  0.000000  0.000000  0.000000   \n",
       "\n",
       "                       Cruise     Sound   Leather  Mileage_transformed  \n",
       "Price                0.456111 -0.149583  0.155412                 -0.0  \n",
       "Mileage              0.023516 -0.025447 -0.000876                  0.0  \n",
       "Cylinder             0.354285 -0.089704  0.075520                  0.0  \n",
       "Liter                0.377509 -0.065527  0.087332                  0.0  \n",
       "Doors               -0.047674 -0.062530 -0.061969                  0.0  \n",
       "Cruise               1.000000 -0.091730 -0.070573                  NaN  \n",
       "Sound               -0.091730  1.000000  0.165444                 -0.0  \n",
       "Leather             -0.070573  0.165444  1.000000                 -0.0  \n",
       "Mileage_transformed       NaN -0.000000 -0.000000                  NaN  "
      ]
     },
     "execution_count": 243,
     "metadata": {},
     "output_type": "execute_result"
    }
   ],
   "source": [
    "df.corr()"
   ]
  },
  {
   "cell_type": "markdown",
   "id": "20a381db",
   "metadata": {},
   "source": [
    " Even after checking out various Transformations for Mileage column to get Linear Relationship, but couldn't get the Linear Relationship. Hence, proceeding with the original Mileage column data.\n"
   ]
  },
  {
   "cell_type": "code",
   "execution_count": 244,
   "id": "cd263fd7",
   "metadata": {},
   "outputs": [],
   "source": [
    "df= df.drop(\"Mileage_transformed\", axis=1)"
   ]
  },
  {
   "cell_type": "markdown",
   "id": "15e874e7",
   "metadata": {},
   "source": [
    "## Splitting of Dataset"
   ]
  },
  {
   "cell_type": "code",
   "execution_count": 245,
   "id": "7935ba1f",
   "metadata": {},
   "outputs": [],
   "source": [
    "x = df.loc[:,[\"Mileage\"]].values\n",
    "y = df.loc[:, \"Price\"].values"
   ]
  },
  {
   "cell_type": "code",
   "execution_count": 246,
   "id": "16713ab9",
   "metadata": {},
   "outputs": [],
   "source": [
    "from sklearn.model_selection import train_test_split\n",
    "x_train, x_test, y_train, y_test = train_test_split(x,y,test_size=0.20)"
   ]
  },
  {
   "cell_type": "markdown",
   "id": "821574b8",
   "metadata": {},
   "source": [
    "## Model"
   ]
  },
  {
   "cell_type": "code",
   "execution_count": 247,
   "id": "bad2f63a",
   "metadata": {},
   "outputs": [
    {
     "data": {
      "text/html": [
       "<style>#sk-container-id-8 {color: black;background-color: white;}#sk-container-id-8 pre{padding: 0;}#sk-container-id-8 div.sk-toggleable {background-color: white;}#sk-container-id-8 label.sk-toggleable__label {cursor: pointer;display: block;width: 100%;margin-bottom: 0;padding: 0.3em;box-sizing: border-box;text-align: center;}#sk-container-id-8 label.sk-toggleable__label-arrow:before {content: \"▸\";float: left;margin-right: 0.25em;color: #696969;}#sk-container-id-8 label.sk-toggleable__label-arrow:hover:before {color: black;}#sk-container-id-8 div.sk-estimator:hover label.sk-toggleable__label-arrow:before {color: black;}#sk-container-id-8 div.sk-toggleable__content {max-height: 0;max-width: 0;overflow: hidden;text-align: left;background-color: #f0f8ff;}#sk-container-id-8 div.sk-toggleable__content pre {margin: 0.2em;color: black;border-radius: 0.25em;background-color: #f0f8ff;}#sk-container-id-8 input.sk-toggleable__control:checked~div.sk-toggleable__content {max-height: 200px;max-width: 100%;overflow: auto;}#sk-container-id-8 input.sk-toggleable__control:checked~label.sk-toggleable__label-arrow:before {content: \"▾\";}#sk-container-id-8 div.sk-estimator input.sk-toggleable__control:checked~label.sk-toggleable__label {background-color: #d4ebff;}#sk-container-id-8 div.sk-label input.sk-toggleable__control:checked~label.sk-toggleable__label {background-color: #d4ebff;}#sk-container-id-8 input.sk-hidden--visually {border: 0;clip: rect(1px 1px 1px 1px);clip: rect(1px, 1px, 1px, 1px);height: 1px;margin: -1px;overflow: hidden;padding: 0;position: absolute;width: 1px;}#sk-container-id-8 div.sk-estimator {font-family: monospace;background-color: #f0f8ff;border: 1px dotted black;border-radius: 0.25em;box-sizing: border-box;margin-bottom: 0.5em;}#sk-container-id-8 div.sk-estimator:hover {background-color: #d4ebff;}#sk-container-id-8 div.sk-parallel-item::after {content: \"\";width: 100%;border-bottom: 1px solid gray;flex-grow: 1;}#sk-container-id-8 div.sk-label:hover label.sk-toggleable__label {background-color: #d4ebff;}#sk-container-id-8 div.sk-serial::before {content: \"\";position: absolute;border-left: 1px solid gray;box-sizing: border-box;top: 0;bottom: 0;left: 50%;z-index: 0;}#sk-container-id-8 div.sk-serial {display: flex;flex-direction: column;align-items: center;background-color: white;padding-right: 0.2em;padding-left: 0.2em;position: relative;}#sk-container-id-8 div.sk-item {position: relative;z-index: 1;}#sk-container-id-8 div.sk-parallel {display: flex;align-items: stretch;justify-content: center;background-color: white;position: relative;}#sk-container-id-8 div.sk-item::before, #sk-container-id-8 div.sk-parallel-item::before {content: \"\";position: absolute;border-left: 1px solid gray;box-sizing: border-box;top: 0;bottom: 0;left: 50%;z-index: -1;}#sk-container-id-8 div.sk-parallel-item {display: flex;flex-direction: column;z-index: 1;position: relative;background-color: white;}#sk-container-id-8 div.sk-parallel-item:first-child::after {align-self: flex-end;width: 50%;}#sk-container-id-8 div.sk-parallel-item:last-child::after {align-self: flex-start;width: 50%;}#sk-container-id-8 div.sk-parallel-item:only-child::after {width: 0;}#sk-container-id-8 div.sk-dashed-wrapped {border: 1px dashed gray;margin: 0 0.4em 0.5em 0.4em;box-sizing: border-box;padding-bottom: 0.4em;background-color: white;}#sk-container-id-8 div.sk-label label {font-family: monospace;font-weight: bold;display: inline-block;line-height: 1.2em;}#sk-container-id-8 div.sk-label-container {text-align: center;}#sk-container-id-8 div.sk-container {/* jupyter's `normalize.less` sets `[hidden] { display: none; }` but bootstrap.min.css set `[hidden] { display: none !important; }` so we also need the `!important` here to be able to override the default hidden behavior on the sphinx rendered scikit-learn.org. See: https://github.com/scikit-learn/scikit-learn/issues/21755 */display: inline-block !important;position: relative;}#sk-container-id-8 div.sk-text-repr-fallback {display: none;}</style><div id=\"sk-container-id-8\" class=\"sk-top-container\"><div class=\"sk-text-repr-fallback\"><pre>LinearRegression()</pre><b>In a Jupyter environment, please rerun this cell to show the HTML representation or trust the notebook. <br />On GitHub, the HTML representation is unable to render, please try loading this page with nbviewer.org.</b></div><div class=\"sk-container\" hidden><div class=\"sk-item\"><div class=\"sk-estimator sk-toggleable\"><input class=\"sk-toggleable__control sk-hidden--visually\" id=\"sk-estimator-id-8\" type=\"checkbox\" checked><label for=\"sk-estimator-id-8\" class=\"sk-toggleable__label sk-toggleable__label-arrow\">LinearRegression</label><div class=\"sk-toggleable__content\"><pre>LinearRegression()</pre></div></div></div></div></div>"
      ],
      "text/plain": [
       "LinearRegression()"
      ]
     },
     "execution_count": 247,
     "metadata": {},
     "output_type": "execute_result"
    }
   ],
   "source": [
    "from sklearn.linear_model import LinearRegression\n",
    "LR = LinearRegression()\n",
    "LR.fit(x_train, y_train)"
   ]
  },
  {
   "cell_type": "code",
   "execution_count": 248,
   "id": "26a261bf",
   "metadata": {},
   "outputs": [
    {
     "data": {
      "text/plain": [
       "24309.34235298042"
      ]
     },
     "execution_count": 248,
     "metadata": {},
     "output_type": "execute_result"
    }
   ],
   "source": [
    "LR.intercept_"
   ]
  },
  {
   "cell_type": "code",
   "execution_count": 249,
   "id": "a62ef234",
   "metadata": {},
   "outputs": [
    {
     "data": {
      "text/plain": [
       "array([-0.16826882])"
      ]
     },
     "execution_count": 249,
     "metadata": {},
     "output_type": "execute_result"
    }
   ],
   "source": [
    "LR.coef_"
   ]
  },
  {
   "cell_type": "code",
   "execution_count": 250,
   "id": "3b9d4506",
   "metadata": {},
   "outputs": [],
   "source": [
    "pred_y = LR.predict(x_test)"
   ]
  },
  {
   "cell_type": "markdown",
   "id": "3e2ca671",
   "metadata": {},
   "source": [
    "## 1. Linear Regression Equation"
   ]
  },
  {
   "cell_type": "raw",
   "id": "7ecbecbd",
   "metadata": {},
   "source": [
    "y = -0.1755*\"Mileage\" + 24632.23"
   ]
  },
  {
   "cell_type": "markdown",
   "id": "d288b8ef",
   "metadata": {},
   "source": [
    "## 2. Chart the original data and the equation on the chart."
   ]
  },
  {
   "cell_type": "code",
   "execution_count": 251,
   "id": "58fdc47c",
   "metadata": {},
   "outputs": [],
   "source": [
    "dff = pd.DataFrame({\"Actual\":y_test, \"Predicted\":pred_y})"
   ]
  },
  {
   "cell_type": "code",
   "execution_count": 252,
   "id": "9355a1a5",
   "metadata": {},
   "outputs": [
    {
     "data": {
      "text/html": [
       "<div>\n",
       "<style scoped>\n",
       "    .dataframe tbody tr th:only-of-type {\n",
       "        vertical-align: middle;\n",
       "    }\n",
       "\n",
       "    .dataframe tbody tr th {\n",
       "        vertical-align: top;\n",
       "    }\n",
       "\n",
       "    .dataframe thead th {\n",
       "        text-align: right;\n",
       "    }\n",
       "</style>\n",
       "<table border=\"1\" class=\"dataframe\">\n",
       "  <thead>\n",
       "    <tr style=\"text-align: right;\">\n",
       "      <th></th>\n",
       "      <th>Actual</th>\n",
       "      <th>Predicted</th>\n",
       "    </tr>\n",
       "  </thead>\n",
       "  <tbody>\n",
       "    <tr>\n",
       "      <th>0</th>\n",
       "      <td>15163.169859</td>\n",
       "      <td>21422.186002</td>\n",
       "    </tr>\n",
       "    <tr>\n",
       "      <th>1</th>\n",
       "      <td>24405.066760</td>\n",
       "      <td>19035.124573</td>\n",
       "    </tr>\n",
       "    <tr>\n",
       "      <th>2</th>\n",
       "      <td>15138.400824</td>\n",
       "      <td>18847.000037</td>\n",
       "    </tr>\n",
       "    <tr>\n",
       "      <th>3</th>\n",
       "      <td>10354.043852</td>\n",
       "      <td>21865.910871</td>\n",
       "    </tr>\n",
       "    <tr>\n",
       "      <th>4</th>\n",
       "      <td>13688.000109</td>\n",
       "      <td>21151.609745</td>\n",
       "    </tr>\n",
       "    <tr>\n",
       "      <th>...</th>\n",
       "      <td>...</td>\n",
       "      <td>...</td>\n",
       "    </tr>\n",
       "    <tr>\n",
       "      <th>156</th>\n",
       "      <td>21183.123587</td>\n",
       "      <td>20709.399296</td>\n",
       "    </tr>\n",
       "    <tr>\n",
       "      <th>157</th>\n",
       "      <td>23348.016954</td>\n",
       "      <td>20266.347503</td>\n",
       "    </tr>\n",
       "    <tr>\n",
       "      <th>158</th>\n",
       "      <td>12274.957581</td>\n",
       "      <td>21009.254327</td>\n",
       "    </tr>\n",
       "    <tr>\n",
       "      <th>159</th>\n",
       "      <td>18800.093103</td>\n",
       "      <td>23328.839960</td>\n",
       "    </tr>\n",
       "    <tr>\n",
       "      <th>160</th>\n",
       "      <td>17772.969680</td>\n",
       "      <td>20093.871966</td>\n",
       "    </tr>\n",
       "  </tbody>\n",
       "</table>\n",
       "<p>161 rows × 2 columns</p>\n",
       "</div>"
      ],
      "text/plain": [
       "           Actual     Predicted\n",
       "0    15163.169859  21422.186002\n",
       "1    24405.066760  19035.124573\n",
       "2    15138.400824  18847.000037\n",
       "3    10354.043852  21865.910871\n",
       "4    13688.000109  21151.609745\n",
       "..            ...           ...\n",
       "156  21183.123587  20709.399296\n",
       "157  23348.016954  20266.347503\n",
       "158  12274.957581  21009.254327\n",
       "159  18800.093103  23328.839960\n",
       "160  17772.969680  20093.871966\n",
       "\n",
       "[161 rows x 2 columns]"
      ]
     },
     "execution_count": 252,
     "metadata": {},
     "output_type": "execute_result"
    }
   ],
   "source": [
    "dff"
   ]
  },
  {
   "cell_type": "code",
   "execution_count": 253,
   "id": "bb93efa7",
   "metadata": {},
   "outputs": [
    {
     "data": {
      "text/plain": [
       "[<matplotlib.lines.Line2D at 0x1f3d2ebdb10>]"
      ]
     },
     "execution_count": 253,
     "metadata": {},
     "output_type": "execute_result"
    },
    {
     "data": {
      "image/png": "[encoded data removed]",
      "text/plain": [
       "<Figure size 640x480 with 1 Axes>"
      ]
     },
     "metadata": {},
     "output_type": "display_data"
    }
   ],
   "source": [
    "plt.scatter(x,y, color=\"orange\")\n",
    "plt.plot(x, LR.predict(x), color=\"red\")"
   ]
  },
  {
   "cell_type": "markdown",
   "id": "0637b271",
   "metadata": {},
   "source": [
    "## 3. Find the equation's  𝑅2  score (use the .score method) to determine whether the equation is a good fit for this data."
   ]
  },
  {
   "cell_type": "code",
   "execution_count": 254,
   "id": "4164db87",
   "metadata": {},
   "outputs": [],
   "source": [
    "from sklearn import metrics\n",
    "s = LR.score(x_test,y_test)"
   ]
  },
  {
   "cell_type": "code",
   "execution_count": 255,
   "id": "f32edf79",
   "metadata": {
    "scrolled": true
   },
   "outputs": [
    {
     "name": "stdout",
     "output_type": "stream",
     "text": [
      "The R2-Score of this model is -0.001889530195292144\n"
     ]
    }
   ],
   "source": [
    "print(\"The R2-Score of this model is\",s)"
   ]
  },
  {
   "cell_type": "markdown",
   "id": "c5d41df1",
   "metadata": {},
   "source": [
    "## Trying Ridge Regression"
   ]
  },
  {
   "cell_type": "code",
   "execution_count": 256,
   "id": "a0bc2a08",
   "metadata": {},
   "outputs": [
    {
     "data": {
      "text/plain": [
       "-0.0018895301948713694"
      ]
     },
     "execution_count": 256,
     "metadata": {},
     "output_type": "execute_result"
    }
   ],
   "source": [
    "from sklearn.linear_model import Ridge\n",
    "R = Ridge()\n",
    "R.fit(x_train, y_train)\n",
    "#y_predi = R.predict(x_test)\n",
    "from sklearn import metrics\n",
    "rr = R.score(x_test, y_test)\n",
    "rr"
   ]
  },
  {
   "cell_type": "markdown",
   "id": "76f1fddf",
   "metadata": {},
   "source": [
    "## Trying Lasso Regression"
   ]
  },
  {
   "cell_type": "code",
   "execution_count": 257,
   "id": "8c85e44f",
   "metadata": {},
   "outputs": [
    {
     "data": {
      "text/plain": [
       "-0.0018895285863353983"
      ]
     },
     "execution_count": 257,
     "metadata": {},
     "output_type": "execute_result"
    }
   ],
   "source": [
    "from sklearn.linear_model import Lasso\n",
    "L = Lasso()\n",
    "L.fit(x_train, y_train)\n",
    "#y_predi = R.predict(x_test)\n",
    "from sklearn import metrics\n",
    "lar = L.score(x_test, y_test)\n",
    "lar"
   ]
  },
  {
   "cell_type": "markdown",
   "id": "6db4a8bd",
   "metadata": {},
   "source": [
    "# Part-2 : EDA"
   ]
  },
  {
   "cell_type": "code",
   "execution_count": 258,
   "id": "7f9f5be6",
   "metadata": {
    "scrolled": false
   },
   "outputs": [
    {
     "data": {
      "text/plain": [
       "<AxesSubplot: xlabel='Cylinder'>"
      ]
     },
     "execution_count": 258,
     "metadata": {},
     "output_type": "execute_result"
    },
    {
     "data": {
      "image/png": "[encoded data removed]",
      "text/plain": [
       "<Figure size 640x480 with 1 Axes>"
      ]
     },
     "metadata": {},
     "output_type": "display_data"
    }
   ],
   "source": [
    "df.groupby(\"Cylinder\")[\"Price\"].mean().plot()"
   ]
  },
  {
   "cell_type": "code",
   "execution_count": 259,
   "id": "0f0487b4",
   "metadata": {},
   "outputs": [
    {
     "name": "stderr",
     "output_type": "stream",
     "text": [
      "C:\\Users\\Revanth\\AppData\\Local\\Temp\\ipykernel_10788\\1134722465.py:1: FutureWarning: The default value of numeric_only in DataFrame.corr is deprecated. In a future version, it will default to False. Select only valid columns or specify the value of numeric_only to silence this warning.\n",
      "  df.corr()\n"
     ]
    },
    {
     "data": {
      "text/html": [
       "<div>\n",
       "<style scoped>\n",
       "    .dataframe tbody tr th:only-of-type {\n",
       "        vertical-align: middle;\n",
       "    }\n",
       "\n",
       "    .dataframe tbody tr th {\n",
       "        vertical-align: top;\n",
       "    }\n",
       "\n",
       "    .dataframe thead th {\n",
       "        text-align: right;\n",
       "    }\n",
       "</style>\n",
       "<table border=\"1\" class=\"dataframe\">\n",
       "  <thead>\n",
       "    <tr style=\"text-align: right;\">\n",
       "      <th></th>\n",
       "      <th>Price</th>\n",
       "      <th>Mileage</th>\n",
       "      <th>Cylinder</th>\n",
       "      <th>Liter</th>\n",
       "      <th>Doors</th>\n",
       "      <th>Cruise</th>\n",
       "      <th>Sound</th>\n",
       "      <th>Leather</th>\n",
       "    </tr>\n",
       "  </thead>\n",
       "  <tbody>\n",
       "    <tr>\n",
       "      <th>Price</th>\n",
       "      <td>1.000000</td>\n",
       "      <td>-0.138997</td>\n",
       "      <td>0.569795</td>\n",
       "      <td>0.570744</td>\n",
       "      <td>-0.108917</td>\n",
       "      <td>0.456111</td>\n",
       "      <td>-0.149583</td>\n",
       "      <td>0.155412</td>\n",
       "    </tr>\n",
       "    <tr>\n",
       "      <th>Mileage</th>\n",
       "      <td>-0.138997</td>\n",
       "      <td>1.000000</td>\n",
       "      <td>-0.028069</td>\n",
       "      <td>-0.016878</td>\n",
       "      <td>-0.015384</td>\n",
       "      <td>0.023516</td>\n",
       "      <td>-0.025447</td>\n",
       "      <td>-0.000876</td>\n",
       "    </tr>\n",
       "    <tr>\n",
       "      <th>Cylinder</th>\n",
       "      <td>0.569795</td>\n",
       "      <td>-0.028069</td>\n",
       "      <td>1.000000</td>\n",
       "      <td>0.957897</td>\n",
       "      <td>0.002206</td>\n",
       "      <td>0.354285</td>\n",
       "      <td>-0.089704</td>\n",
       "      <td>0.075520</td>\n",
       "    </tr>\n",
       "    <tr>\n",
       "      <th>Liter</th>\n",
       "      <td>0.570744</td>\n",
       "      <td>-0.016878</td>\n",
       "      <td>0.957897</td>\n",
       "      <td>1.000000</td>\n",
       "      <td>-0.079259</td>\n",
       "      <td>0.377509</td>\n",
       "      <td>-0.065527</td>\n",
       "      <td>0.087332</td>\n",
       "    </tr>\n",
       "    <tr>\n",
       "      <th>Doors</th>\n",
       "      <td>-0.108917</td>\n",
       "      <td>-0.015384</td>\n",
       "      <td>0.002206</td>\n",
       "      <td>-0.079259</td>\n",
       "      <td>1.000000</td>\n",
       "      <td>-0.047674</td>\n",
       "      <td>-0.062530</td>\n",
       "      <td>-0.061969</td>\n",
       "    </tr>\n",
       "    <tr>\n",
       "      <th>Cruise</th>\n",
       "      <td>0.456111</td>\n",
       "      <td>0.023516</td>\n",
       "      <td>0.354285</td>\n",
       "      <td>0.377509</td>\n",
       "      <td>-0.047674</td>\n",
       "      <td>1.000000</td>\n",
       "      <td>-0.091730</td>\n",
       "      <td>-0.070573</td>\n",
       "    </tr>\n",
       "    <tr>\n",
       "      <th>Sound</th>\n",
       "      <td>-0.149583</td>\n",
       "      <td>-0.025447</td>\n",
       "      <td>-0.089704</td>\n",
       "      <td>-0.065527</td>\n",
       "      <td>-0.062530</td>\n",
       "      <td>-0.091730</td>\n",
       "      <td>1.000000</td>\n",
       "      <td>0.165444</td>\n",
       "    </tr>\n",
       "    <tr>\n",
       "      <th>Leather</th>\n",
       "      <td>0.155412</td>\n",
       "      <td>-0.000876</td>\n",
       "      <td>0.075520</td>\n",
       "      <td>0.087332</td>\n",
       "      <td>-0.061969</td>\n",
       "      <td>-0.070573</td>\n",
       "      <td>0.165444</td>\n",
       "      <td>1.000000</td>\n",
       "    </tr>\n",
       "  </tbody>\n",
       "</table>\n",
       "</div>"
      ],
      "text/plain": [
       "             Price   Mileage  Cylinder     Liter     Doors    Cruise  \\\n",
       "Price     1.000000 -0.138997  0.569795  0.570744 -0.108917  0.456111   \n",
       "Mileage  -0.138997  1.000000 -0.028069 -0.016878 -0.015384  0.023516   \n",
       "Cylinder  0.569795 -0.028069  1.000000  0.957897  0.002206  0.354285   \n",
       "Liter     0.570744 -0.016878  0.957897  1.000000 -0.079259  0.377509   \n",
       "Doors    -0.108917 -0.015384  0.002206 -0.079259  1.000000 -0.047674   \n",
       "Cruise    0.456111  0.023516  0.354285  0.377509 -0.047674  1.000000   \n",
       "Sound    -0.149583 -0.025447 -0.089704 -0.065527 -0.062530 -0.091730   \n",
       "Leather   0.155412 -0.000876  0.075520  0.087332 -0.061969 -0.070573   \n",
       "\n",
       "             Sound   Leather  \n",
       "Price    -0.149583  0.155412  \n",
       "Mileage  -0.025447 -0.000876  \n",
       "Cylinder -0.089704  0.075520  \n",
       "Liter    -0.065527  0.087332  \n",
       "Doors    -0.062530 -0.061969  \n",
       "Cruise   -0.091730 -0.070573  \n",
       "Sound     1.000000  0.165444  \n",
       "Leather   0.165444  1.000000  "
      ]
     },
     "execution_count": 259,
     "metadata": {},
     "output_type": "execute_result"
    }
   ],
   "source": [
    "df.corr()"
   ]
  },
  {
   "cell_type": "code",
   "execution_count": 260,
   "id": "810393fa",
   "metadata": {},
   "outputs": [
    {
     "data": {
      "text/plain": [
       "<AxesSubplot: xlabel='Liter'>"
      ]
     },
     "execution_count": 260,
     "metadata": {},
     "output_type": "execute_result"
    },
    {
     "data": {
      "image/png": "[encoded data removed]",
      "text/plain": [
       "<Figure size 640x480 with 1 Axes>"
      ]
     },
     "metadata": {},
     "output_type": "display_data"
    }
   ],
   "source": [
    "df.groupby(\"Liter\")[\"Price\"].mean().plot()"
   ]
  },
  {
   "cell_type": "code",
   "execution_count": 261,
   "id": "2b5bee6b",
   "metadata": {
    "scrolled": true
   },
   "outputs": [
    {
     "name": "stderr",
     "output_type": "stream",
     "text": [
      "C:\\Users\\Revanth\\AppData\\Local\\Temp\\ipykernel_10788\\1134722465.py:1: FutureWarning: The default value of numeric_only in DataFrame.corr is deprecated. In a future version, it will default to False. Select only valid columns or specify the value of numeric_only to silence this warning.\n",
      "  df.corr()\n"
     ]
    },
    {
     "data": {
      "text/html": [
       "<div>\n",
       "<style scoped>\n",
       "    .dataframe tbody tr th:only-of-type {\n",
       "        vertical-align: middle;\n",
       "    }\n",
       "\n",
       "    .dataframe tbody tr th {\n",
       "        vertical-align: top;\n",
       "    }\n",
       "\n",
       "    .dataframe thead th {\n",
       "        text-align: right;\n",
       "    }\n",
       "</style>\n",
       "<table border=\"1\" class=\"dataframe\">\n",
       "  <thead>\n",
       "    <tr style=\"text-align: right;\">\n",
       "      <th></th>\n",
       "      <th>Price</th>\n",
       "      <th>Mileage</th>\n",
       "      <th>Cylinder</th>\n",
       "      <th>Liter</th>\n",
       "      <th>Doors</th>\n",
       "      <th>Cruise</th>\n",
       "      <th>Sound</th>\n",
       "      <th>Leather</th>\n",
       "    </tr>\n",
       "  </thead>\n",
       "  <tbody>\n",
       "    <tr>\n",
       "      <th>Price</th>\n",
       "      <td>1.000000</td>\n",
       "      <td>-0.138997</td>\n",
       "      <td>0.569795</td>\n",
       "      <td>0.570744</td>\n",
       "      <td>-0.108917</td>\n",
       "      <td>0.456111</td>\n",
       "      <td>-0.149583</td>\n",
       "      <td>0.155412</td>\n",
       "    </tr>\n",
       "    <tr>\n",
       "      <th>Mileage</th>\n",
       "      <td>-0.138997</td>\n",
       "      <td>1.000000</td>\n",
       "      <td>-0.028069</td>\n",
       "      <td>-0.016878</td>\n",
       "      <td>-0.015384</td>\n",
       "      <td>0.023516</td>\n",
       "      <td>-0.025447</td>\n",
       "      <td>-0.000876</td>\n",
       "    </tr>\n",
       "    <tr>\n",
       "      <th>Cylinder</th>\n",
       "      <td>0.569795</td>\n",
       "      <td>-0.028069</td>\n",
       "      <td>1.000000</td>\n",
       "      <td>0.957897</td>\n",
       "      <td>0.002206</td>\n",
       "      <td>0.354285</td>\n",
       "      <td>-0.089704</td>\n",
       "      <td>0.075520</td>\n",
       "    </tr>\n",
       "    <tr>\n",
       "      <th>Liter</th>\n",
       "      <td>0.570744</td>\n",
       "      <td>-0.016878</td>\n",
       "      <td>0.957897</td>\n",
       "      <td>1.000000</td>\n",
       "      <td>-0.079259</td>\n",
       "      <td>0.377509</td>\n",
       "      <td>-0.065527</td>\n",
       "      <td>0.087332</td>\n",
       "    </tr>\n",
       "    <tr>\n",
       "      <th>Doors</th>\n",
       "      <td>-0.108917</td>\n",
       "      <td>-0.015384</td>\n",
       "      <td>0.002206</td>\n",
       "      <td>-0.079259</td>\n",
       "      <td>1.000000</td>\n",
       "      <td>-0.047674</td>\n",
       "      <td>-0.062530</td>\n",
       "      <td>-0.061969</td>\n",
       "    </tr>\n",
       "    <tr>\n",
       "      <th>Cruise</th>\n",
       "      <td>0.456111</td>\n",
       "      <td>0.023516</td>\n",
       "      <td>0.354285</td>\n",
       "      <td>0.377509</td>\n",
       "      <td>-0.047674</td>\n",
       "      <td>1.000000</td>\n",
       "      <td>-0.091730</td>\n",
       "      <td>-0.070573</td>\n",
       "    </tr>\n",
       "    <tr>\n",
       "      <th>Sound</th>\n",
       "      <td>-0.149583</td>\n",
       "      <td>-0.025447</td>\n",
       "      <td>-0.089704</td>\n",
       "      <td>-0.065527</td>\n",
       "      <td>-0.062530</td>\n",
       "      <td>-0.091730</td>\n",
       "      <td>1.000000</td>\n",
       "      <td>0.165444</td>\n",
       "    </tr>\n",
       "    <tr>\n",
       "      <th>Leather</th>\n",
       "      <td>0.155412</td>\n",
       "      <td>-0.000876</td>\n",
       "      <td>0.075520</td>\n",
       "      <td>0.087332</td>\n",
       "      <td>-0.061969</td>\n",
       "      <td>-0.070573</td>\n",
       "      <td>0.165444</td>\n",
       "      <td>1.000000</td>\n",
       "    </tr>\n",
       "  </tbody>\n",
       "</table>\n",
       "</div>"
      ],
      "text/plain": [
       "             Price   Mileage  Cylinder     Liter     Doors    Cruise  \\\n",
       "Price     1.000000 -0.138997  0.569795  0.570744 -0.108917  0.456111   \n",
       "Mileage  -0.138997  1.000000 -0.028069 -0.016878 -0.015384  0.023516   \n",
       "Cylinder  0.569795 -0.028069  1.000000  0.957897  0.002206  0.354285   \n",
       "Liter     0.570744 -0.016878  0.957897  1.000000 -0.079259  0.377509   \n",
       "Doors    -0.108917 -0.015384  0.002206 -0.079259  1.000000 -0.047674   \n",
       "Cruise    0.456111  0.023516  0.354285  0.377509 -0.047674  1.000000   \n",
       "Sound    -0.149583 -0.025447 -0.089704 -0.065527 -0.062530 -0.091730   \n",
       "Leather   0.155412 -0.000876  0.075520  0.087332 -0.061969 -0.070573   \n",
       "\n",
       "             Sound   Leather  \n",
       "Price    -0.149583  0.155412  \n",
       "Mileage  -0.025447 -0.000876  \n",
       "Cylinder -0.089704  0.075520  \n",
       "Liter    -0.065527  0.087332  \n",
       "Doors    -0.062530 -0.061969  \n",
       "Cruise   -0.091730 -0.070573  \n",
       "Sound     1.000000  0.165444  \n",
       "Leather   0.165444  1.000000  "
      ]
     },
     "execution_count": 261,
     "metadata": {},
     "output_type": "execute_result"
    }
   ],
   "source": [
    "df.corr()"
   ]
  },
  {
   "cell_type": "code",
   "execution_count": 262,
   "id": "602dc8e4",
   "metadata": {
    "scrolled": false
   },
   "outputs": [
    {
     "data": {
      "text/plain": [
       "<AxesSubplot: xlabel='Doors'>"
      ]
     },
     "execution_count": 262,
     "metadata": {},
     "output_type": "execute_result"
    },
    {
     "data": {
      "image/png": "[encoded data removed]",
      "text/plain": [
       "<Figure size 640x480 with 1 Axes>"
      ]
     },
     "metadata": {},
     "output_type": "display_data"
    }
   ],
   "source": [
    "df.groupby(\"Doors\")[\"Price\"].mean().plot()"
   ]
  },
  {
   "cell_type": "code",
   "execution_count": 263,
   "id": "1e5fa32a",
   "metadata": {},
   "outputs": [
    {
     "name": "stderr",
     "output_type": "stream",
     "text": [
      "C:\\Users\\Revanth\\AppData\\Local\\Temp\\ipykernel_10788\\1134722465.py:1: FutureWarning: The default value of numeric_only in DataFrame.corr is deprecated. In a future version, it will default to False. Select only valid columns or specify the value of numeric_only to silence this warning.\n",
      "  df.corr()\n"
     ]
    },
    {
     "data": {
      "text/html": [
       "<div>\n",
       "<style scoped>\n",
       "    .dataframe tbody tr th:only-of-type {\n",
       "        vertical-align: middle;\n",
       "    }\n",
       "\n",
       "    .dataframe tbody tr th {\n",
       "        vertical-align: top;\n",
       "    }\n",
       "\n",
       "    .dataframe thead th {\n",
       "        text-align: right;\n",
       "    }\n",
       "</style>\n",
       "<table border=\"1\" class=\"dataframe\">\n",
       "  <thead>\n",
       "    <tr style=\"text-align: right;\">\n",
       "      <th></th>\n",
       "      <th>Price</th>\n",
       "      <th>Mileage</th>\n",
       "      <th>Cylinder</th>\n",
       "      <th>Liter</th>\n",
       "      <th>Doors</th>\n",
       "      <th>Cruise</th>\n",
       "      <th>Sound</th>\n",
       "      <th>Leather</th>\n",
       "    </tr>\n",
       "  </thead>\n",
       "  <tbody>\n",
       "    <tr>\n",
       "      <th>Price</th>\n",
       "      <td>1.000000</td>\n",
       "      <td>-0.138997</td>\n",
       "      <td>0.569795</td>\n",
       "      <td>0.570744</td>\n",
       "      <td>-0.108917</td>\n",
       "      <td>0.456111</td>\n",
       "      <td>-0.149583</td>\n",
       "      <td>0.155412</td>\n",
       "    </tr>\n",
       "    <tr>\n",
       "      <th>Mileage</th>\n",
       "      <td>-0.138997</td>\n",
       "      <td>1.000000</td>\n",
       "      <td>-0.028069</td>\n",
       "      <td>-0.016878</td>\n",
       "      <td>-0.015384</td>\n",
       "      <td>0.023516</td>\n",
       "      <td>-0.025447</td>\n",
       "      <td>-0.000876</td>\n",
       "    </tr>\n",
       "    <tr>\n",
       "      <th>Cylinder</th>\n",
       "      <td>0.569795</td>\n",
       "      <td>-0.028069</td>\n",
       "      <td>1.000000</td>\n",
       "      <td>0.957897</td>\n",
       "      <td>0.002206</td>\n",
       "      <td>0.354285</td>\n",
       "      <td>-0.089704</td>\n",
       "      <td>0.075520</td>\n",
       "    </tr>\n",
       "    <tr>\n",
       "      <th>Liter</th>\n",
       "      <td>0.570744</td>\n",
       "      <td>-0.016878</td>\n",
       "      <td>0.957897</td>\n",
       "      <td>1.000000</td>\n",
       "      <td>-0.079259</td>\n",
       "      <td>0.377509</td>\n",
       "      <td>-0.065527</td>\n",
       "      <td>0.087332</td>\n",
       "    </tr>\n",
       "    <tr>\n",
       "      <th>Doors</th>\n",
       "      <td>-0.108917</td>\n",
       "      <td>-0.015384</td>\n",
       "      <td>0.002206</td>\n",
       "      <td>-0.079259</td>\n",
       "      <td>1.000000</td>\n",
       "      <td>-0.047674</td>\n",
       "      <td>-0.062530</td>\n",
       "      <td>-0.061969</td>\n",
       "    </tr>\n",
       "    <tr>\n",
       "      <th>Cruise</th>\n",
       "      <td>0.456111</td>\n",
       "      <td>0.023516</td>\n",
       "      <td>0.354285</td>\n",
       "      <td>0.377509</td>\n",
       "      <td>-0.047674</td>\n",
       "      <td>1.000000</td>\n",
       "      <td>-0.091730</td>\n",
       "      <td>-0.070573</td>\n",
       "    </tr>\n",
       "    <tr>\n",
       "      <th>Sound</th>\n",
       "      <td>-0.149583</td>\n",
       "      <td>-0.025447</td>\n",
       "      <td>-0.089704</td>\n",
       "      <td>-0.065527</td>\n",
       "      <td>-0.062530</td>\n",
       "      <td>-0.091730</td>\n",
       "      <td>1.000000</td>\n",
       "      <td>0.165444</td>\n",
       "    </tr>\n",
       "    <tr>\n",
       "      <th>Leather</th>\n",
       "      <td>0.155412</td>\n",
       "      <td>-0.000876</td>\n",
       "      <td>0.075520</td>\n",
       "      <td>0.087332</td>\n",
       "      <td>-0.061969</td>\n",
       "      <td>-0.070573</td>\n",
       "      <td>0.165444</td>\n",
       "      <td>1.000000</td>\n",
       "    </tr>\n",
       "  </tbody>\n",
       "</table>\n",
       "</div>"
      ],
      "text/plain": [
       "             Price   Mileage  Cylinder     Liter     Doors    Cruise  \\\n",
       "Price     1.000000 -0.138997  0.569795  0.570744 -0.108917  0.456111   \n",
       "Mileage  -0.138997  1.000000 -0.028069 -0.016878 -0.015384  0.023516   \n",
       "Cylinder  0.569795 -0.028069  1.000000  0.957897  0.002206  0.354285   \n",
       "Liter     0.570744 -0.016878  0.957897  1.000000 -0.079259  0.377509   \n",
       "Doors    -0.108917 -0.015384  0.002206 -0.079259  1.000000 -0.047674   \n",
       "Cruise    0.456111  0.023516  0.354285  0.377509 -0.047674  1.000000   \n",
       "Sound    -0.149583 -0.025447 -0.089704 -0.065527 -0.062530 -0.091730   \n",
       "Leather   0.155412 -0.000876  0.075520  0.087332 -0.061969 -0.070573   \n",
       "\n",
       "             Sound   Leather  \n",
       "Price    -0.149583  0.155412  \n",
       "Mileage  -0.025447 -0.000876  \n",
       "Cylinder -0.089704  0.075520  \n",
       "Liter    -0.065527  0.087332  \n",
       "Doors    -0.062530 -0.061969  \n",
       "Cruise   -0.091730 -0.070573  \n",
       "Sound     1.000000  0.165444  \n",
       "Leather   0.165444  1.000000  "
      ]
     },
     "execution_count": 263,
     "metadata": {},
     "output_type": "execute_result"
    }
   ],
   "source": [
    "df.corr()"
   ]
  },
  {
   "cell_type": "code",
   "execution_count": 264,
   "id": "d366603c",
   "metadata": {},
   "outputs": [
    {
     "data": {
      "text/plain": [
       "<AxesSubplot: xlabel='Cruise'>"
      ]
     },
     "execution_count": 264,
     "metadata": {},
     "output_type": "execute_result"
    },
    {
     "data": {
      "image/png": "[encoded data removed]",
      "text/plain": [
       "<Figure size 640x480 with 1 Axes>"
      ]
     },
     "metadata": {},
     "output_type": "display_data"
    }
   ],
   "source": [
    "df.groupby(\"Cruise\")[\"Price\"].mean().plot()"
   ]
  },
  {
   "cell_type": "code",
   "execution_count": 265,
   "id": "c7cbe3b7",
   "metadata": {},
   "outputs": [
    {
     "name": "stderr",
     "output_type": "stream",
     "text": [
      "C:\\Users\\Revanth\\AppData\\Local\\Temp\\ipykernel_10788\\1134722465.py:1: FutureWarning: The default value of numeric_only in DataFrame.corr is deprecated. In a future version, it will default to False. Select only valid columns or specify the value of numeric_only to silence this warning.\n",
      "  df.corr()\n"
     ]
    },
    {
     "data": {
      "text/html": [
       "<div>\n",
       "<style scoped>\n",
       "    .dataframe tbody tr th:only-of-type {\n",
       "        vertical-align: middle;\n",
       "    }\n",
       "\n",
       "    .dataframe tbody tr th {\n",
       "        vertical-align: top;\n",
       "    }\n",
       "\n",
       "    .dataframe thead th {\n",
       "        text-align: right;\n",
       "    }\n",
       "</style>\n",
       "<table border=\"1\" class=\"dataframe\">\n",
       "  <thead>\n",
       "    <tr style=\"text-align: right;\">\n",
       "      <th></th>\n",
       "      <th>Price</th>\n",
       "      <th>Mileage</th>\n",
       "      <th>Cylinder</th>\n",
       "      <th>Liter</th>\n",
       "      <th>Doors</th>\n",
       "      <th>Cruise</th>\n",
       "      <th>Sound</th>\n",
       "      <th>Leather</th>\n",
       "    </tr>\n",
       "  </thead>\n",
       "  <tbody>\n",
       "    <tr>\n",
       "      <th>Price</th>\n",
       "      <td>1.000000</td>\n",
       "      <td>-0.138997</td>\n",
       "      <td>0.569795</td>\n",
       "      <td>0.570744</td>\n",
       "      <td>-0.108917</td>\n",
       "      <td>0.456111</td>\n",
       "      <td>-0.149583</td>\n",
       "      <td>0.155412</td>\n",
       "    </tr>\n",
       "    <tr>\n",
       "      <th>Mileage</th>\n",
       "      <td>-0.138997</td>\n",
       "      <td>1.000000</td>\n",
       "      <td>-0.028069</td>\n",
       "      <td>-0.016878</td>\n",
       "      <td>-0.015384</td>\n",
       "      <td>0.023516</td>\n",
       "      <td>-0.025447</td>\n",
       "      <td>-0.000876</td>\n",
       "    </tr>\n",
       "    <tr>\n",
       "      <th>Cylinder</th>\n",
       "      <td>0.569795</td>\n",
       "      <td>-0.028069</td>\n",
       "      <td>1.000000</td>\n",
       "      <td>0.957897</td>\n",
       "      <td>0.002206</td>\n",
       "      <td>0.354285</td>\n",
       "      <td>-0.089704</td>\n",
       "      <td>0.075520</td>\n",
       "    </tr>\n",
       "    <tr>\n",
       "      <th>Liter</th>\n",
       "      <td>0.570744</td>\n",
       "      <td>-0.016878</td>\n",
       "      <td>0.957897</td>\n",
       "      <td>1.000000</td>\n",
       "      <td>-0.079259</td>\n",
       "      <td>0.377509</td>\n",
       "      <td>-0.065527</td>\n",
       "      <td>0.087332</td>\n",
       "    </tr>\n",
       "    <tr>\n",
       "      <th>Doors</th>\n",
       "      <td>-0.108917</td>\n",
       "      <td>-0.015384</td>\n",
       "      <td>0.002206</td>\n",
       "      <td>-0.079259</td>\n",
       "      <td>1.000000</td>\n",
       "      <td>-0.047674</td>\n",
       "      <td>-0.062530</td>\n",
       "      <td>-0.061969</td>\n",
       "    </tr>\n",
       "    <tr>\n",
       "      <th>Cruise</th>\n",
       "      <td>0.456111</td>\n",
       "      <td>0.023516</td>\n",
       "      <td>0.354285</td>\n",
       "      <td>0.377509</td>\n",
       "      <td>-0.047674</td>\n",
       "      <td>1.000000</td>\n",
       "      <td>-0.091730</td>\n",
       "      <td>-0.070573</td>\n",
       "    </tr>\n",
       "    <tr>\n",
       "      <th>Sound</th>\n",
       "      <td>-0.149583</td>\n",
       "      <td>-0.025447</td>\n",
       "      <td>-0.089704</td>\n",
       "      <td>-0.065527</td>\n",
       "      <td>-0.062530</td>\n",
       "      <td>-0.091730</td>\n",
       "      <td>1.000000</td>\n",
       "      <td>0.165444</td>\n",
       "    </tr>\n",
       "    <tr>\n",
       "      <th>Leather</th>\n",
       "      <td>0.155412</td>\n",
       "      <td>-0.000876</td>\n",
       "      <td>0.075520</td>\n",
       "      <td>0.087332</td>\n",
       "      <td>-0.061969</td>\n",
       "      <td>-0.070573</td>\n",
       "      <td>0.165444</td>\n",
       "      <td>1.000000</td>\n",
       "    </tr>\n",
       "  </tbody>\n",
       "</table>\n",
       "</div>"
      ],
      "text/plain": [
       "             Price   Mileage  Cylinder     Liter     Doors    Cruise  \\\n",
       "Price     1.000000 -0.138997  0.569795  0.570744 -0.108917  0.456111   \n",
       "Mileage  -0.138997  1.000000 -0.028069 -0.016878 -0.015384  0.023516   \n",
       "Cylinder  0.569795 -0.028069  1.000000  0.957897  0.002206  0.354285   \n",
       "Liter     0.570744 -0.016878  0.957897  1.000000 -0.079259  0.377509   \n",
       "Doors    -0.108917 -0.015384  0.002206 -0.079259  1.000000 -0.047674   \n",
       "Cruise    0.456111  0.023516  0.354285  0.377509 -0.047674  1.000000   \n",
       "Sound    -0.149583 -0.025447 -0.089704 -0.065527 -0.062530 -0.091730   \n",
       "Leather   0.155412 -0.000876  0.075520  0.087332 -0.061969 -0.070573   \n",
       "\n",
       "             Sound   Leather  \n",
       "Price    -0.149583  0.155412  \n",
       "Mileage  -0.025447 -0.000876  \n",
       "Cylinder -0.089704  0.075520  \n",
       "Liter    -0.065527  0.087332  \n",
       "Doors    -0.062530 -0.061969  \n",
       "Cruise   -0.091730 -0.070573  \n",
       "Sound     1.000000  0.165444  \n",
       "Leather   0.165444  1.000000  "
      ]
     },
     "execution_count": 265,
     "metadata": {},
     "output_type": "execute_result"
    }
   ],
   "source": [
    "df.corr()"
   ]
  },
  {
   "cell_type": "code",
   "execution_count": 266,
   "id": "59b303d3",
   "metadata": {},
   "outputs": [
    {
     "data": {
      "text/plain": [
       "<AxesSubplot: xlabel='Sound'>"
      ]
     },
     "execution_count": 266,
     "metadata": {},
     "output_type": "execute_result"
    },
    {
     "data": {
      "image/png": "[encoded data removed]",
      "text/plain": [
       "<Figure size 640x480 with 1 Axes>"
      ]
     },
     "metadata": {},
     "output_type": "display_data"
    }
   ],
   "source": [
    "df.groupby(\"Sound\")[\"Price\"].mean().plot()"
   ]
  },
  {
   "cell_type": "code",
   "execution_count": 267,
   "id": "bfed6b16",
   "metadata": {},
   "outputs": [
    {
     "name": "stderr",
     "output_type": "stream",
     "text": [
      "C:\\Users\\Revanth\\AppData\\Local\\Temp\\ipykernel_10788\\1134722465.py:1: FutureWarning: The default value of numeric_only in DataFrame.corr is deprecated. In a future version, it will default to False. Select only valid columns or specify the value of numeric_only to silence this warning.\n",
      "  df.corr()\n"
     ]
    },
    {
     "data": {
      "text/html": [
       "<div>\n",
       "<style scoped>\n",
       "    .dataframe tbody tr th:only-of-type {\n",
       "        vertical-align: middle;\n",
       "    }\n",
       "\n",
       "    .dataframe tbody tr th {\n",
       "        vertical-align: top;\n",
       "    }\n",
       "\n",
       "    .dataframe thead th {\n",
       "        text-align: right;\n",
       "    }\n",
       "</style>\n",
       "<table border=\"1\" class=\"dataframe\">\n",
       "  <thead>\n",
       "    <tr style=\"text-align: right;\">\n",
       "      <th></th>\n",
       "      <th>Price</th>\n",
       "      <th>Mileage</th>\n",
       "      <th>Cylinder</th>\n",
       "      <th>Liter</th>\n",
       "      <th>Doors</th>\n",
       "      <th>Cruise</th>\n",
       "      <th>Sound</th>\n",
       "      <th>Leather</th>\n",
       "    </tr>\n",
       "  </thead>\n",
       "  <tbody>\n",
       "    <tr>\n",
       "      <th>Price</th>\n",
       "      <td>1.000000</td>\n",
       "      <td>-0.138997</td>\n",
       "      <td>0.569795</td>\n",
       "      <td>0.570744</td>\n",
       "      <td>-0.108917</td>\n",
       "      <td>0.456111</td>\n",
       "      <td>-0.149583</td>\n",
       "      <td>0.155412</td>\n",
       "    </tr>\n",
       "    <tr>\n",
       "      <th>Mileage</th>\n",
       "      <td>-0.138997</td>\n",
       "      <td>1.000000</td>\n",
       "      <td>-0.028069</td>\n",
       "      <td>-0.016878</td>\n",
       "      <td>-0.015384</td>\n",
       "      <td>0.023516</td>\n",
       "      <td>-0.025447</td>\n",
       "      <td>-0.000876</td>\n",
       "    </tr>\n",
       "    <tr>\n",
       "      <th>Cylinder</th>\n",
       "      <td>0.569795</td>\n",
       "      <td>-0.028069</td>\n",
       "      <td>1.000000</td>\n",
       "      <td>0.957897</td>\n",
       "      <td>0.002206</td>\n",
       "      <td>0.354285</td>\n",
       "      <td>-0.089704</td>\n",
       "      <td>0.075520</td>\n",
       "    </tr>\n",
       "    <tr>\n",
       "      <th>Liter</th>\n",
       "      <td>0.570744</td>\n",
       "      <td>-0.016878</td>\n",
       "      <td>0.957897</td>\n",
       "      <td>1.000000</td>\n",
       "      <td>-0.079259</td>\n",
       "      <td>0.377509</td>\n",
       "      <td>-0.065527</td>\n",
       "      <td>0.087332</td>\n",
       "    </tr>\n",
       "    <tr>\n",
       "      <th>Doors</th>\n",
       "      <td>-0.108917</td>\n",
       "      <td>-0.015384</td>\n",
       "      <td>0.002206</td>\n",
       "      <td>-0.079259</td>\n",
       "      <td>1.000000</td>\n",
       "      <td>-0.047674</td>\n",
       "      <td>-0.062530</td>\n",
       "      <td>-0.061969</td>\n",
       "    </tr>\n",
       "    <tr>\n",
       "      <th>Cruise</th>\n",
       "      <td>0.456111</td>\n",
       "      <td>0.023516</td>\n",
       "      <td>0.354285</td>\n",
       "      <td>0.377509</td>\n",
       "      <td>-0.047674</td>\n",
       "      <td>1.000000</td>\n",
       "      <td>-0.091730</td>\n",
       "      <td>-0.070573</td>\n",
       "    </tr>\n",
       "    <tr>\n",
       "      <th>Sound</th>\n",
       "      <td>-0.149583</td>\n",
       "      <td>-0.025447</td>\n",
       "      <td>-0.089704</td>\n",
       "      <td>-0.065527</td>\n",
       "      <td>-0.062530</td>\n",
       "      <td>-0.091730</td>\n",
       "      <td>1.000000</td>\n",
       "      <td>0.165444</td>\n",
       "    </tr>\n",
       "    <tr>\n",
       "      <th>Leather</th>\n",
       "      <td>0.155412</td>\n",
       "      <td>-0.000876</td>\n",
       "      <td>0.075520</td>\n",
       "      <td>0.087332</td>\n",
       "      <td>-0.061969</td>\n",
       "      <td>-0.070573</td>\n",
       "      <td>0.165444</td>\n",
       "      <td>1.000000</td>\n",
       "    </tr>\n",
       "  </tbody>\n",
       "</table>\n",
       "</div>"
      ],
      "text/plain": [
       "             Price   Mileage  Cylinder     Liter     Doors    Cruise  \\\n",
       "Price     1.000000 -0.138997  0.569795  0.570744 -0.108917  0.456111   \n",
       "Mileage  -0.138997  1.000000 -0.028069 -0.016878 -0.015384  0.023516   \n",
       "Cylinder  0.569795 -0.028069  1.000000  0.957897  0.002206  0.354285   \n",
       "Liter     0.570744 -0.016878  0.957897  1.000000 -0.079259  0.377509   \n",
       "Doors    -0.108917 -0.015384  0.002206 -0.079259  1.000000 -0.047674   \n",
       "Cruise    0.456111  0.023516  0.354285  0.377509 -0.047674  1.000000   \n",
       "Sound    -0.149583 -0.025447 -0.089704 -0.065527 -0.062530 -0.091730   \n",
       "Leather   0.155412 -0.000876  0.075520  0.087332 -0.061969 -0.070573   \n",
       "\n",
       "             Sound   Leather  \n",
       "Price    -0.149583  0.155412  \n",
       "Mileage  -0.025447 -0.000876  \n",
       "Cylinder -0.089704  0.075520  \n",
       "Liter    -0.065527  0.087332  \n",
       "Doors    -0.062530 -0.061969  \n",
       "Cruise   -0.091730 -0.070573  \n",
       "Sound     1.000000  0.165444  \n",
       "Leather   0.165444  1.000000  "
      ]
     },
     "execution_count": 267,
     "metadata": {},
     "output_type": "execute_result"
    }
   ],
   "source": [
    "df.corr()"
   ]
  },
  {
   "cell_type": "code",
   "execution_count": 268,
   "id": "ecd30204",
   "metadata": {},
   "outputs": [
    {
     "data": {
      "text/plain": [
       "<AxesSubplot: xlabel='Leather'>"
      ]
     },
     "execution_count": 268,
     "metadata": {},
     "output_type": "execute_result"
    },
    {
     "data": {
      "image/png": "[encoded data removed]",
      "text/plain": [
       "<Figure size 640x480 with 1 Axes>"
      ]
     },
     "metadata": {},
     "output_type": "display_data"
    }
   ],
   "source": [
    "df.groupby(\"Leather\")[\"Price\"].mean().plot()"
   ]
  },
  {
   "cell_type": "code",
   "execution_count": 269,
   "id": "63d4bc65",
   "metadata": {},
   "outputs": [
    {
     "name": "stderr",
     "output_type": "stream",
     "text": [
      "C:\\Users\\Revanth\\AppData\\Local\\Temp\\ipykernel_10788\\1134722465.py:1: FutureWarning: The default value of numeric_only in DataFrame.corr is deprecated. In a future version, it will default to False. Select only valid columns or specify the value of numeric_only to silence this warning.\n",
      "  df.corr()\n"
     ]
    },
    {
     "data": {
      "text/html": [
       "<div>\n",
       "<style scoped>\n",
       "    .dataframe tbody tr th:only-of-type {\n",
       "        vertical-align: middle;\n",
       "    }\n",
       "\n",
       "    .dataframe tbody tr th {\n",
       "        vertical-align: top;\n",
       "    }\n",
       "\n",
       "    .dataframe thead th {\n",
       "        text-align: right;\n",
       "    }\n",
       "</style>\n",
       "<table border=\"1\" class=\"dataframe\">\n",
       "  <thead>\n",
       "    <tr style=\"text-align: right;\">\n",
       "      <th></th>\n",
       "      <th>Price</th>\n",
       "      <th>Mileage</th>\n",
       "      <th>Cylinder</th>\n",
       "      <th>Liter</th>\n",
       "      <th>Doors</th>\n",
       "      <th>Cruise</th>\n",
       "      <th>Sound</th>\n",
       "      <th>Leather</th>\n",
       "    </tr>\n",
       "  </thead>\n",
       "  <tbody>\n",
       "    <tr>\n",
       "      <th>Price</th>\n",
       "      <td>1.000000</td>\n",
       "      <td>-0.138997</td>\n",
       "      <td>0.569795</td>\n",
       "      <td>0.570744</td>\n",
       "      <td>-0.108917</td>\n",
       "      <td>0.456111</td>\n",
       "      <td>-0.149583</td>\n",
       "      <td>0.155412</td>\n",
       "    </tr>\n",
       "    <tr>\n",
       "      <th>Mileage</th>\n",
       "      <td>-0.138997</td>\n",
       "      <td>1.000000</td>\n",
       "      <td>-0.028069</td>\n",
       "      <td>-0.016878</td>\n",
       "      <td>-0.015384</td>\n",
       "      <td>0.023516</td>\n",
       "      <td>-0.025447</td>\n",
       "      <td>-0.000876</td>\n",
       "    </tr>\n",
       "    <tr>\n",
       "      <th>Cylinder</th>\n",
       "      <td>0.569795</td>\n",
       "      <td>-0.028069</td>\n",
       "      <td>1.000000</td>\n",
       "      <td>0.957897</td>\n",
       "      <td>0.002206</td>\n",
       "      <td>0.354285</td>\n",
       "      <td>-0.089704</td>\n",
       "      <td>0.075520</td>\n",
       "    </tr>\n",
       "    <tr>\n",
       "      <th>Liter</th>\n",
       "      <td>0.570744</td>\n",
       "      <td>-0.016878</td>\n",
       "      <td>0.957897</td>\n",
       "      <td>1.000000</td>\n",
       "      <td>-0.079259</td>\n",
       "      <td>0.377509</td>\n",
       "      <td>-0.065527</td>\n",
       "      <td>0.087332</td>\n",
       "    </tr>\n",
       "    <tr>\n",
       "      <th>Doors</th>\n",
       "      <td>-0.108917</td>\n",
       "      <td>-0.015384</td>\n",
       "      <td>0.002206</td>\n",
       "      <td>-0.079259</td>\n",
       "      <td>1.000000</td>\n",
       "      <td>-0.047674</td>\n",
       "      <td>-0.062530</td>\n",
       "      <td>-0.061969</td>\n",
       "    </tr>\n",
       "    <tr>\n",
       "      <th>Cruise</th>\n",
       "      <td>0.456111</td>\n",
       "      <td>0.023516</td>\n",
       "      <td>0.354285</td>\n",
       "      <td>0.377509</td>\n",
       "      <td>-0.047674</td>\n",
       "      <td>1.000000</td>\n",
       "      <td>-0.091730</td>\n",
       "      <td>-0.070573</td>\n",
       "    </tr>\n",
       "    <tr>\n",
       "      <th>Sound</th>\n",
       "      <td>-0.149583</td>\n",
       "      <td>-0.025447</td>\n",
       "      <td>-0.089704</td>\n",
       "      <td>-0.065527</td>\n",
       "      <td>-0.062530</td>\n",
       "      <td>-0.091730</td>\n",
       "      <td>1.000000</td>\n",
       "      <td>0.165444</td>\n",
       "    </tr>\n",
       "    <tr>\n",
       "      <th>Leather</th>\n",
       "      <td>0.155412</td>\n",
       "      <td>-0.000876</td>\n",
       "      <td>0.075520</td>\n",
       "      <td>0.087332</td>\n",
       "      <td>-0.061969</td>\n",
       "      <td>-0.070573</td>\n",
       "      <td>0.165444</td>\n",
       "      <td>1.000000</td>\n",
       "    </tr>\n",
       "  </tbody>\n",
       "</table>\n",
       "</div>"
      ],
      "text/plain": [
       "             Price   Mileage  Cylinder     Liter     Doors    Cruise  \\\n",
       "Price     1.000000 -0.138997  0.569795  0.570744 -0.108917  0.456111   \n",
       "Mileage  -0.138997  1.000000 -0.028069 -0.016878 -0.015384  0.023516   \n",
       "Cylinder  0.569795 -0.028069  1.000000  0.957897  0.002206  0.354285   \n",
       "Liter     0.570744 -0.016878  0.957897  1.000000 -0.079259  0.377509   \n",
       "Doors    -0.108917 -0.015384  0.002206 -0.079259  1.000000 -0.047674   \n",
       "Cruise    0.456111  0.023516  0.354285  0.377509 -0.047674  1.000000   \n",
       "Sound    -0.149583 -0.025447 -0.089704 -0.065527 -0.062530 -0.091730   \n",
       "Leather   0.155412 -0.000876  0.075520  0.087332 -0.061969 -0.070573   \n",
       "\n",
       "             Sound   Leather  \n",
       "Price    -0.149583  0.155412  \n",
       "Mileage  -0.025447 -0.000876  \n",
       "Cylinder -0.089704  0.075520  \n",
       "Liter    -0.065527  0.087332  \n",
       "Doors    -0.062530 -0.061969  \n",
       "Cruise   -0.091730 -0.070573  \n",
       "Sound     1.000000  0.165444  \n",
       "Leather   0.165444  1.000000  "
      ]
     },
     "execution_count": 269,
     "metadata": {},
     "output_type": "execute_result"
    }
   ],
   "source": [
    "df.corr()"
   ]
  },
  {
   "cell_type": "markdown",
   "id": "36bd1745",
   "metadata": {},
   "source": [
    "# Use mileage, cylinders, liters, doors, cruise, sound, and leather to find the linear regression equation."
   ]
  },
  {
   "cell_type": "markdown",
   "id": "c2897f94",
   "metadata": {},
   "source": [
    "## Splitting of Dataset"
   ]
  },
  {
   "cell_type": "code",
   "execution_count": 270,
   "id": "0b517ffa",
   "metadata": {},
   "outputs": [],
   "source": [
    "X = df.loc[:,[\"Mileage\",\"Cylinder\",\"Liter\",\"Doors\",\"Cruise\",\"Sound\",\"Leather\"]].values\n",
    "Y = df.loc[:,\"Price\"].values"
   ]
  },
  {
   "cell_type": "code",
   "execution_count": 271,
   "id": "efc8c58c",
   "metadata": {},
   "outputs": [],
   "source": [
    "from sklearn.model_selection import train_test_split\n",
    "X_Tr, X_Te, Y_Tr, Y_Te = train_test_split(X,Y,test_size=0.2)"
   ]
  },
  {
   "cell_type": "markdown",
   "id": "cc2b11c7",
   "metadata": {},
   "source": [
    "## Model"
   ]
  },
  {
   "cell_type": "code",
   "execution_count": 272,
   "id": "b69d17c2",
   "metadata": {},
   "outputs": [
    {
     "data": {
      "text/html": [
       "<style>#sk-container-id-9 {color: black;background-color: white;}#sk-container-id-9 pre{padding: 0;}#sk-container-id-9 div.sk-toggleable {background-color: white;}#sk-container-id-9 label.sk-toggleable__label {cursor: pointer;display: block;width: 100%;margin-bottom: 0;padding: 0.3em;box-sizing: border-box;text-align: center;}#sk-container-id-9 label.sk-toggleable__label-arrow:before {content: \"▸\";float: left;margin-right: 0.25em;color: #696969;}#sk-container-id-9 label.sk-toggleable__label-arrow:hover:before {color: black;}#sk-container-id-9 div.sk-estimator:hover label.sk-toggleable__label-arrow:before {color: black;}#sk-container-id-9 div.sk-toggleable__content {max-height: 0;max-width: 0;overflow: hidden;text-align: left;background-color: #f0f8ff;}#sk-container-id-9 div.sk-toggleable__content pre {margin: 0.2em;color: black;border-radius: 0.25em;background-color: #f0f8ff;}#sk-container-id-9 input.sk-toggleable__control:checked~div.sk-toggleable__content {max-height: 200px;max-width: 100%;overflow: auto;}#sk-container-id-9 input.sk-toggleable__control:checked~label.sk-toggleable__label-arrow:before {content: \"▾\";}#sk-container-id-9 div.sk-estimator input.sk-toggleable__control:checked~label.sk-toggleable__label {background-color: #d4ebff;}#sk-container-id-9 div.sk-label input.sk-toggleable__control:checked~label.sk-toggleable__label {background-color: #d4ebff;}#sk-container-id-9 input.sk-hidden--visually {border: 0;clip: rect(1px 1px 1px 1px);clip: rect(1px, 1px, 1px, 1px);height: 1px;margin: -1px;overflow: hidden;padding: 0;position: absolute;width: 1px;}#sk-container-id-9 div.sk-estimator {font-family: monospace;background-color: #f0f8ff;border: 1px dotted black;border-radius: 0.25em;box-sizing: border-box;margin-bottom: 0.5em;}#sk-container-id-9 div.sk-estimator:hover {background-color: #d4ebff;}#sk-container-id-9 div.sk-parallel-item::after {content: \"\";width: 100%;border-bottom: 1px solid gray;flex-grow: 1;}#sk-container-id-9 div.sk-label:hover label.sk-toggleable__label {background-color: #d4ebff;}#sk-container-id-9 div.sk-serial::before {content: \"\";position: absolute;border-left: 1px solid gray;box-sizing: border-box;top: 0;bottom: 0;left: 50%;z-index: 0;}#sk-container-id-9 div.sk-serial {display: flex;flex-direction: column;align-items: center;background-color: white;padding-right: 0.2em;padding-left: 0.2em;position: relative;}#sk-container-id-9 div.sk-item {position: relative;z-index: 1;}#sk-container-id-9 div.sk-parallel {display: flex;align-items: stretch;justify-content: center;background-color: white;position: relative;}#sk-container-id-9 div.sk-item::before, #sk-container-id-9 div.sk-parallel-item::before {content: \"\";position: absolute;border-left: 1px solid gray;box-sizing: border-box;top: 0;bottom: 0;left: 50%;z-index: -1;}#sk-container-id-9 div.sk-parallel-item {display: flex;flex-direction: column;z-index: 1;position: relative;background-color: white;}#sk-container-id-9 div.sk-parallel-item:first-child::after {align-self: flex-end;width: 50%;}#sk-container-id-9 div.sk-parallel-item:last-child::after {align-self: flex-start;width: 50%;}#sk-container-id-9 div.sk-parallel-item:only-child::after {width: 0;}#sk-container-id-9 div.sk-dashed-wrapped {border: 1px dashed gray;margin: 0 0.4em 0.5em 0.4em;box-sizing: border-box;padding-bottom: 0.4em;background-color: white;}#sk-container-id-9 div.sk-label label {font-family: monospace;font-weight: bold;display: inline-block;line-height: 1.2em;}#sk-container-id-9 div.sk-label-container {text-align: center;}#sk-container-id-9 div.sk-container {/* jupyter's `normalize.less` sets `[hidden] { display: none; }` but bootstrap.min.css set `[hidden] { display: none !important; }` so we also need the `!important` here to be able to override the default hidden behavior on the sphinx rendered scikit-learn.org. See: https://github.com/scikit-learn/scikit-learn/issues/21755 */display: inline-block !important;position: relative;}#sk-container-id-9 div.sk-text-repr-fallback {display: none;}</style><div id=\"sk-container-id-9\" class=\"sk-top-container\"><div class=\"sk-text-repr-fallback\"><pre>LinearRegression()</pre><b>In a Jupyter environment, please rerun this cell to show the HTML representation or trust the notebook. <br />On GitHub, the HTML representation is unable to render, please try loading this page with nbviewer.org.</b></div><div class=\"sk-container\" hidden><div class=\"sk-item\"><div class=\"sk-estimator sk-toggleable\"><input class=\"sk-toggleable__control sk-hidden--visually\" id=\"sk-estimator-id-9\" type=\"checkbox\" checked><label for=\"sk-estimator-id-9\" class=\"sk-toggleable__label sk-toggleable__label-arrow\">LinearRegression</label><div class=\"sk-toggleable__content\"><pre>LinearRegression()</pre></div></div></div></div></div>"
      ],
      "text/plain": [
       "LinearRegression()"
      ]
     },
     "execution_count": 272,
     "metadata": {},
     "output_type": "execute_result"
    }
   ],
   "source": [
    "from sklearn.linear_model import LinearRegression\n",
    "L = LinearRegression()\n",
    "L.fit(X_Tr, Y_Tr)"
   ]
  },
  {
   "cell_type": "markdown",
   "id": "0a4cd70c",
   "metadata": {},
   "source": [
    "# Find the equation's  𝑅2  score (use the .score method) to determine whether the equation is a good fit for this data."
   ]
  },
  {
   "cell_type": "code",
   "execution_count": 273,
   "id": "3bc1a099",
   "metadata": {},
   "outputs": [
    {
     "data": {
      "text/plain": [
       "0.4640180287614165"
      ]
     },
     "execution_count": 273,
     "metadata": {},
     "output_type": "execute_result"
    }
   ],
   "source": [
    "from sklearn import metrics\n",
    "r = L.score(X_Tr, Y_Tr)\n",
    "r"
   ]
  },
  {
   "cell_type": "code",
   "execution_count": 274,
   "id": "6c7aabef",
   "metadata": {},
   "outputs": [],
   "source": [
    "coef_df = pd.DataFrame(L.coef_, index=[\"Mileage\",\"Cylinder\",\"Liter\",\"Doors\",\"Cruise\",\"Sound\",\"Leather\"], columns=[\"Values\"])"
   ]
  },
  {
   "cell_type": "code",
   "execution_count": 275,
   "id": "1dad8848",
   "metadata": {},
   "outputs": [
    {
     "data": {
      "text/html": [
       "<div>\n",
       "<style scoped>\n",
       "    .dataframe tbody tr th:only-of-type {\n",
       "        vertical-align: middle;\n",
       "    }\n",
       "\n",
       "    .dataframe tbody tr th {\n",
       "        vertical-align: top;\n",
       "    }\n",
       "\n",
       "    .dataframe thead th {\n",
       "        text-align: right;\n",
       "    }\n",
       "</style>\n",
       "<table border=\"1\" class=\"dataframe\">\n",
       "  <thead>\n",
       "    <tr style=\"text-align: right;\">\n",
       "      <th></th>\n",
       "      <th>Values</th>\n",
       "    </tr>\n",
       "  </thead>\n",
       "  <tbody>\n",
       "    <tr>\n",
       "      <th>Mileage</th>\n",
       "      <td>-0.146717</td>\n",
       "    </tr>\n",
       "    <tr>\n",
       "      <th>Cylinder</th>\n",
       "      <td>2001.268922</td>\n",
       "    </tr>\n",
       "    <tr>\n",
       "      <th>Liter</th>\n",
       "      <td>1162.943605</td>\n",
       "    </tr>\n",
       "    <tr>\n",
       "      <th>Doors</th>\n",
       "      <td>-751.800057</td>\n",
       "    </tr>\n",
       "    <tr>\n",
       "      <th>Cruise</th>\n",
       "      <td>6086.009501</td>\n",
       "    </tr>\n",
       "    <tr>\n",
       "      <th>Sound</th>\n",
       "      <td>-2506.810389</td>\n",
       "    </tr>\n",
       "    <tr>\n",
       "      <th>Leather</th>\n",
       "      <td>3054.306870</td>\n",
       "    </tr>\n",
       "  </tbody>\n",
       "</table>\n",
       "</div>"
      ],
      "text/plain": [
       "               Values\n",
       "Mileage     -0.146717\n",
       "Cylinder  2001.268922\n",
       "Liter     1162.943605\n",
       "Doors     -751.800057\n",
       "Cruise    6086.009501\n",
       "Sound    -2506.810389\n",
       "Leather   3054.306870"
      ]
     },
     "execution_count": 275,
     "metadata": {},
     "output_type": "execute_result"
    }
   ],
   "source": [
    "coef_df"
   ]
  },
  {
   "cell_type": "raw",
   "id": "a53ee3f1",
   "metadata": {},
   "source": [
    "y = -0.16*Mileage + 2428.18*Cylinder + 600.62*Liter - 838.82*Doors + 6110.57*Cruise - 2649.23*Sound + 3383.08*Leather"
   ]
  },
  {
   "cell_type": "markdown",
   "id": "0c1455fb",
   "metadata": {},
   "source": [
    "## Ridge Regression "
   ]
  },
  {
   "cell_type": "code",
   "execution_count": 276,
   "id": "4d175711",
   "metadata": {
    "scrolled": true
   },
   "outputs": [
    {
     "data": {
      "text/plain": [
       "0.43358151425344893"
      ]
     },
     "execution_count": 276,
     "metadata": {},
     "output_type": "execute_result"
    }
   ],
   "source": [
    "from sklearn.linear_model import Ridge\n",
    "R2 = Ridge()\n",
    "R2.fit(X_Tr, Y_Tr)\n",
    "#y_predi = R.predict(x_test)\n",
    "from sklearn import metrics\n",
    "rr2 = R2.score(X_Te, Y_Te)\n",
    "rr2"
   ]
  },
  {
   "cell_type": "code",
   "execution_count": 277,
   "id": "fd25c652",
   "metadata": {},
   "outputs": [
    {
     "name": "stdout",
     "output_type": "stream",
     "text": [
      "The R2_Score obtained using Ridge Regression is 0.43358151425344893\n"
     ]
    }
   ],
   "source": [
    "print(\"The R2_Score obtained using Ridge Regression is\",rr2)"
   ]
  },
  {
   "cell_type": "markdown",
   "id": "0546bf01",
   "metadata": {},
   "source": [
    "## Lasso Regression"
   ]
  },
  {
   "cell_type": "code",
   "execution_count": 278,
   "id": "52562c9f",
   "metadata": {},
   "outputs": [
    {
     "data": {
      "text/plain": [
       "0.43370955701867075"
      ]
     },
     "execution_count": 278,
     "metadata": {},
     "output_type": "execute_result"
    }
   ],
   "source": [
    "from sklearn.linear_model import Lasso\n",
    "L2 = Lasso()\n",
    "L2.fit(X_Tr, Y_Tr)\n",
    "#y_predi = R.predict(x_test)\n",
    "from sklearn import metrics\n",
    "lar2 = L2.score(X_Te, Y_Te)\n",
    "lar2"
   ]
  },
  {
   "cell_type": "code",
   "execution_count": 279,
   "id": "ae1e0235",
   "metadata": {},
   "outputs": [
    {
     "name": "stdout",
     "output_type": "stream",
     "text": [
      "The R2_Score obtained using Lasso Regression is 0.43370955701867075\n"
     ]
    }
   ],
   "source": [
    "print(\"The R2_Score obtained using Lasso Regression is\",lar2)"
   ]
  },
  {
   "cell_type": "markdown",
   "id": "d1ff6d69",
   "metadata": {},
   "source": [
    "# Find the combination of the factors that is the best predictor for price."
   ]
  },
  {
   "cell_type": "code",
   "execution_count": 280,
   "id": "13292aa0",
   "metadata": {},
   "outputs": [],
   "source": [
    "from itertools import combinations"
   ]
  },
  {
   "cell_type": "code",
   "execution_count": 281,
   "id": "5afccfee",
   "metadata": {},
   "outputs": [],
   "source": [
    "Single_Comb_list = list(combinations([\"Mileage\",\"Cylinder\",\"Liter\",\"Doors\",\"Cruise\",\"Sound\",\"Leather\"], 1))"
   ]
  },
  {
   "cell_type": "code",
   "execution_count": 282,
   "id": "035e2ae1",
   "metadata": {
    "scrolled": true
   },
   "outputs": [
    {
     "name": "stdout",
     "output_type": "stream",
     "text": [
      "The best combination is : Cylinder\n"
     ]
    }
   ],
   "source": [
    "Single_Combo_R2 = []\n",
    "for i in Single_Comb_list:\n",
    "    X = df.loc[:,i].values\n",
    "    Y = df.loc[:,\"Price\"].values\n",
    "    from sklearn.model_selection import train_test_split\n",
    "    train_x, test_x, train_y, test_y = train_test_split(X,Y,test_size=0.2, random_state=10)\n",
    "    from sklearn.linear_model import LinearRegression\n",
    "    reg = LinearRegression()\n",
    "    reg.fit(train_x, train_y)\n",
    "    y_predicted = reg.predict(test_x)\n",
    "    from sklearn import metrics\n",
    "    s = reg.score(test_x,test_y)\n",
    "    #print(s)\n",
    "    Single_Combo_R2.append(s)\n",
    "\n",
    "ind = Single_Combo_R2.index(max(Single_Combo_R2))\n",
    "print(\"The best combination is :\", *Single_Comb_list[ind])"
   ]
  },
  {
   "cell_type": "code",
   "execution_count": 283,
   "id": "2951ddf7",
   "metadata": {},
   "outputs": [],
   "source": [
    "Dual_Comb_list = list(combinations([\"Mileage\",\"Cylinder\",\"Liter\",\"Doors\",\"Cruise\",\"Sound\",\"Leather\"], 2))"
   ]
  },
  {
   "cell_type": "code",
   "execution_count": 284,
   "id": "d5435b0b",
   "metadata": {},
   "outputs": [
    {
     "name": "stdout",
     "output_type": "stream",
     "text": [
      "The best combination is : Cylinder Cruise\n"
     ]
    }
   ],
   "source": [
    "Dual_Combo_R2 = []\n",
    "for i in Dual_Comb_list:\n",
    "    X = df.loc[:,i].values\n",
    "    Y = df.loc[:,\"Price\"].values\n",
    "    from sklearn.model_selection import train_test_split\n",
    "    train_x, test_x, train_y, test_y = train_test_split(X,Y,test_size=0.2, random_state=10)\n",
    "    from sklearn.linear_model import LinearRegression\n",
    "    reg = LinearRegression()\n",
    "    reg.fit(train_x, train_y)\n",
    "    y_predicted = reg.predict(test_x)\n",
    "    from sklearn import metrics\n",
    "    s = reg.score(test_x,test_y)\n",
    "    #print(s)\n",
    "    Dual_Combo_R2.append(s)\n",
    "\n",
    "ind2 = Dual_Combo_R2.index(max(Dual_Combo_R2))\n",
    "print(\"The best combination is :\", *Dual_Comb_list[ind2])"
   ]
  },
  {
   "cell_type": "code",
   "execution_count": 285,
   "id": "59fa7e33",
   "metadata": {},
   "outputs": [],
   "source": [
    "Triple_Comb_list = list(combinations([\"Mileage\",\"Cylinder\",\"Liter\",\"Doors\",\"Cruise\",\"Sound\",\"Leather\"], 3))"
   ]
  },
  {
   "cell_type": "code",
   "execution_count": 286,
   "id": "a4adc64b",
   "metadata": {
    "scrolled": false
   },
   "outputs": [
    {
     "name": "stdout",
     "output_type": "stream",
     "text": [
      "The best combination is : Mileage Cylinder Cruise\n"
     ]
    }
   ],
   "source": [
    "Triple_Combo_R2 = []\n",
    "for i in Triple_Comb_list:\n",
    "    X = df.loc[:,i].values\n",
    "    Y = df.loc[:,\"Price\"].values\n",
    "    from sklearn.model_selection import train_test_split\n",
    "    train_x, test_x, train_y, test_y = train_test_split(X,Y,test_size=0.2, random_state=10)\n",
    "    from sklearn.linear_model import LinearRegression\n",
    "    reg = LinearRegression()\n",
    "    reg.fit(train_x, train_y)\n",
    "    y_predicted = reg.predict(test_x)\n",
    "    from sklearn import metrics\n",
    "    s = reg.score(test_x,test_y)\n",
    "    #print(s)\n",
    "    Triple_Combo_R2.append(s)\n",
    "\n",
    "ind3 = Triple_Combo_R2.index(max(Triple_Combo_R2))\n",
    "print(\"The best combination is :\", *Triple_Comb_list[ind3])"
   ]
  },
  {
   "cell_type": "markdown",
   "id": "fecc5455",
   "metadata": {},
   "source": [
    "## The Best Combinations are..."
   ]
  },
  {
   "cell_type": "code",
   "execution_count": 287,
   "id": "1666e090",
   "metadata": {},
   "outputs": [
    {
     "name": "stdout",
     "output_type": "stream",
     "text": [
      "The Best Single Combination to Predict Price is Cylinder\n",
      "The Best Dual Combination to Predict Price is Cylinder Cruise\n",
      "The Best Triple Combination to Predict Price is Mileage Cylinder Cruise\n"
     ]
    }
   ],
   "source": [
    "print(\"The Best Single Combination to Predict Price is\", *Single_Comb_list[ind])\n",
    "print(\"The Best Dual Combination to Predict Price is\", *Dual_Comb_list[ind2])\n",
    "print(\"The Best Triple Combination to Predict Price is\", *Triple_Comb_list[ind3])\n"
   ]
  },
  {
   "cell_type": "markdown",
   "id": "d16f5745",
   "metadata": {},
   "source": [
    "# Hard Mode"
   ]
  },
  {
   "cell_type": "markdown",
   "id": "0e0c37c5",
   "metadata": {},
   "source": [
    "## Research dummy variables in scikit-learn to see how to use the make, model, and body type."
   ]
  },
  {
   "cell_type": "code",
   "execution_count": 288,
   "id": "c092c1bc",
   "metadata": {
    "scrolled": true
   },
   "outputs": [
    {
     "name": "stdout",
     "output_type": "stream",
     "text": [
      "The R2-Score is 0.9182271782015687\n"
     ]
    },
    {
     "name": "stderr",
     "output_type": "stream",
     "text": [
      "C:\\Users\\Revanth\\AppData\\Local\\Temp\\ipykernel_10788\\2704405347.py:4: SettingWithCopyWarning: \n",
      "A value is trying to be set on a copy of a slice from a DataFrame.\n",
      "Try using .loc[row_indexer,col_indexer] = value instead\n",
      "\n",
      "See the caveats in the documentation: https://pandas.pydata.org/pandas-docs/stable/user_guide/indexing.html#returning-a-view-versus-a-copy\n",
      "  dfle.Make = le.fit_transform(dfle.Make)\n"
     ]
    }
   ],
   "source": [
    "from sklearn.preprocessing import LabelEncoder\n",
    "le = LabelEncoder()\n",
    "dfle = df[['Make','Mileage','Cylinder','Liter', 'Doors', 'Cruise', 'Sound', 'Leather','Price']]\n",
    "dfle.Make = le.fit_transform(dfle.Make)\n",
    "c = dfle.loc[:,['Make']]\n",
    "from sklearn.preprocessing import OneHotEncoder\n",
    "ohe = OneHotEncoder()\n",
    "r = ohe.fit_transform(c).toarray()\n",
    "e = pd.DataFrame(r)\n",
    "dfle = dfle.drop(\"Make\", axis=1)\n",
    "e = e.loc[:,1:]\n",
    "dfle = pd.concat([dfle,e],axis=\"columns\")\n",
    "X = dfle.loc[:,['Mileage','Cylinder','Liter','Doors','Cruise','Sound','Leather',1,2,3,4,5]].values\n",
    "Y = dfle.loc[:,\"Price\"]\n",
    "from sklearn.model_selection import train_test_split\n",
    "tr_x, te_x, tr_y, te_y = train_test_split(X,Y,test_size=0.3)\n",
    "from sklearn.linear_model import LinearRegression\n",
    "Lin_Reg = LinearRegression()\n",
    "Lin_Reg.fit(tr_x,tr_y)\n",
    "from sklearn import metrics\n",
    "score = Lin_Reg.score(te_x, te_y)\n",
    "print(\"The R2-Score is\", score)"
   ]
  },
  {
   "cell_type": "code",
   "execution_count": 289,
   "id": "2be381e2",
   "metadata": {},
   "outputs": [
    {
     "name": "stdout",
     "output_type": "stream",
     "text": [
      "The R2-Score is 0.9684902610912969\n"
     ]
    },
    {
     "name": "stderr",
     "output_type": "stream",
     "text": [
      "C:\\Users\\Revanth\\AppData\\Local\\Temp\\ipykernel_10788\\2660016380.py:4: SettingWithCopyWarning: \n",
      "A value is trying to be set on a copy of a slice from a DataFrame.\n",
      "Try using .loc[row_indexer,col_indexer] = value instead\n",
      "\n",
      "See the caveats in the documentation: https://pandas.pydata.org/pandas-docs/stable/user_guide/indexing.html#returning-a-view-versus-a-copy\n",
      "  dfle.Model = le.fit_transform(dfle.Model)\n"
     ]
    }
   ],
   "source": [
    "from sklearn.preprocessing import LabelEncoder\n",
    "le = LabelEncoder()\n",
    "dfle = df[['Model','Mileage','Cylinder','Liter', 'Doors', 'Cruise', 'Sound', 'Leather','Price']]\n",
    "dfle.Model = le.fit_transform(dfle.Model)\n",
    "c = dfle.loc[:,['Model']]\n",
    "from sklearn.preprocessing import OneHotEncoder\n",
    "ohe = OneHotEncoder()\n",
    "r = ohe.fit_transform(c).toarray()\n",
    "e = pd.DataFrame(r)\n",
    "dfle = dfle.drop(\"Model\", axis=1)\n",
    "e = e.loc[:,1:]\n",
    "dfle = pd.concat([dfle,e],axis=\"columns\")\n",
    "X = dfle.loc[:,['Mileage','Cylinder','Liter','Doors','Cruise','Sound','Leather',1,2,3,4,5,6,7,8,9,10,11,12,13,14,15,16,17,18,19,20,21,22,23,24,25,26,27,28,29,30,31]].values\n",
    "Y = dfle.loc[:,\"Price\"]\n",
    "from sklearn.model_selection import train_test_split\n",
    "tr_x, te_x, tr_y, te_y = train_test_split(X,Y,test_size=0.3)\n",
    "from sklearn.linear_model import LinearRegression\n",
    "Lin_Reg = LinearRegression()\n",
    "Lin_Reg.fit(tr_x,tr_y)\n",
    "from sklearn import metrics\n",
    "score = Lin_Reg.score(te_x, te_y)\n",
    "print(\"The R2-Score is\", score)"
   ]
  },
  {
   "cell_type": "code",
   "execution_count": 290,
   "id": "885c61d4",
   "metadata": {
    "scrolled": false
   },
   "outputs": [
    {
     "name": "stderr",
     "output_type": "stream",
     "text": [
      "C:\\Users\\Revanth\\AppData\\Local\\Temp\\ipykernel_10788\\3879148835.py:4: SettingWithCopyWarning: \n",
      "A value is trying to be set on a copy of a slice from a DataFrame.\n",
      "Try using .loc[row_indexer,col_indexer] = value instead\n",
      "\n",
      "See the caveats in the documentation: https://pandas.pydata.org/pandas-docs/stable/user_guide/indexing.html#returning-a-view-versus-a-copy\n",
      "  dfle.Type = le.fit_transform(dfle.Type)\n"
     ]
    },
    {
     "name": "stdout",
     "output_type": "stream",
     "text": [
      "The R2-Score is 0.6876708843380482\n"
     ]
    }
   ],
   "source": [
    "from sklearn.preprocessing import LabelEncoder\n",
    "le = LabelEncoder()\n",
    "dfle = df[['Type','Mileage','Cylinder','Liter', 'Doors', 'Cruise', 'Sound', 'Leather','Price']]\n",
    "dfle.Type = le.fit_transform(dfle.Type)\n",
    "c = dfle.loc[:,['Type']]\n",
    "from sklearn.preprocessing import OneHotEncoder\n",
    "ohe = OneHotEncoder()\n",
    "r = ohe.fit_transform(c).toarray()\n",
    "e = pd.DataFrame(r)\n",
    "dfle = dfle.drop(\"Type\", axis=1)\n",
    "e = e.loc[:,1:]\n",
    "dfle = pd.concat([dfle,e],axis=\"columns\")\n",
    "X = dfle.loc[:,['Mileage','Cylinder','Liter','Doors','Cruise','Sound','Leather',1,2,3,4]].values\n",
    "Y = dfle.loc[:,\"Price\"]\n",
    "from sklearn.model_selection import train_test_split\n",
    "tr_x, te_x, tr_y, te_y = train_test_split(X,Y,test_size=0.3)\n",
    "from sklearn.linear_model import LinearRegression\n",
    "Lin_Reg = LinearRegression()\n",
    "Lin_Reg.fit(tr_x,tr_y)\n",
    "from sklearn import metrics\n",
    "score = Lin_Reg.score(te_x, te_y)\n",
    "print(\"The R2-Score is\", score)"
   ]
  }
 ],
 "metadata": {
  "kernelspec": {
   "display_name": "pandas_venv",
   "language": "python",
   "name": "pandas_venv"
  },
  "language_info": {
   "codemirror_mode": {
    "name": "ipython",
    "version": 3
   },
   "file_extension": ".py",
   "mimetype": "text/x-python",
   "name": "python",
   "nbconvert_exporter": "python",
   "pygments_lexer": "ipython3",
   "version": "3.10.7"
  }
 },
 "nbformat": 4,
 "nbformat_minor": 5
}
